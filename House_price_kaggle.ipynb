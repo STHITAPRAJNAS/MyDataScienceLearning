{
 "cells": [
  {
   "cell_type": "markdown",
   "metadata": {},
   "source": [
    "# Data Explorartion"
   ]
  },
  {
   "cell_type": "code",
   "execution_count": 1,
   "metadata": {
    "collapsed": true
   },
   "outputs": [],
   "source": [
    "import pandas as pd\n",
    "import numpy as np"
   ]
  },
  {
   "cell_type": "code",
   "execution_count": 2,
   "metadata": {
    "collapsed": true
   },
   "outputs": [],
   "source": [
    "train = pd.read_csv('train.csv')\n",
    "test = pd.read_csv('test.csv')"
   ]
  },
  {
   "cell_type": "code",
   "execution_count": 3,
   "metadata": {
    "collapsed": false
   },
   "outputs": [
    {
     "name": "stdout",
     "output_type": "stream",
     "text": [
      "Train data shape:  (1460, 81)\n",
      "Test data shape:  (1459, 80)\n"
     ]
    }
   ],
   "source": [
    "print(\"Train data shape: \" , train.shape)\n",
    "print(\"Test data shape: \" ,test.shape)"
   ]
  },
  {
   "cell_type": "code",
   "execution_count": 4,
   "metadata": {
    "collapsed": false
   },
   "outputs": [
    {
     "data": {
      "text/html": [
       "<div>\n",
       "<table border=\"1\" class=\"dataframe\">\n",
       "  <thead>\n",
       "    <tr style=\"text-align: right;\">\n",
       "      <th></th>\n",
       "      <th>Id</th>\n",
       "      <th>MSSubClass</th>\n",
       "      <th>MSZoning</th>\n",
       "      <th>LotFrontage</th>\n",
       "      <th>LotArea</th>\n",
       "      <th>Street</th>\n",
       "      <th>Alley</th>\n",
       "      <th>LotShape</th>\n",
       "      <th>LandContour</th>\n",
       "      <th>Utilities</th>\n",
       "      <th>...</th>\n",
       "      <th>PoolArea</th>\n",
       "      <th>PoolQC</th>\n",
       "      <th>Fence</th>\n",
       "      <th>MiscFeature</th>\n",
       "      <th>MiscVal</th>\n",
       "      <th>MoSold</th>\n",
       "      <th>YrSold</th>\n",
       "      <th>SaleType</th>\n",
       "      <th>SaleCondition</th>\n",
       "      <th>SalePrice</th>\n",
       "    </tr>\n",
       "  </thead>\n",
       "  <tbody>\n",
       "    <tr>\n",
       "      <th>0</th>\n",
       "      <td>1</td>\n",
       "      <td>60</td>\n",
       "      <td>RL</td>\n",
       "      <td>65.0</td>\n",
       "      <td>8450</td>\n",
       "      <td>Pave</td>\n",
       "      <td>NaN</td>\n",
       "      <td>Reg</td>\n",
       "      <td>Lvl</td>\n",
       "      <td>AllPub</td>\n",
       "      <td>...</td>\n",
       "      <td>0</td>\n",
       "      <td>NaN</td>\n",
       "      <td>NaN</td>\n",
       "      <td>NaN</td>\n",
       "      <td>0</td>\n",
       "      <td>2</td>\n",
       "      <td>2008</td>\n",
       "      <td>WD</td>\n",
       "      <td>Normal</td>\n",
       "      <td>208500</td>\n",
       "    </tr>\n",
       "    <tr>\n",
       "      <th>1</th>\n",
       "      <td>2</td>\n",
       "      <td>20</td>\n",
       "      <td>RL</td>\n",
       "      <td>80.0</td>\n",
       "      <td>9600</td>\n",
       "      <td>Pave</td>\n",
       "      <td>NaN</td>\n",
       "      <td>Reg</td>\n",
       "      <td>Lvl</td>\n",
       "      <td>AllPub</td>\n",
       "      <td>...</td>\n",
       "      <td>0</td>\n",
       "      <td>NaN</td>\n",
       "      <td>NaN</td>\n",
       "      <td>NaN</td>\n",
       "      <td>0</td>\n",
       "      <td>5</td>\n",
       "      <td>2007</td>\n",
       "      <td>WD</td>\n",
       "      <td>Normal</td>\n",
       "      <td>181500</td>\n",
       "    </tr>\n",
       "    <tr>\n",
       "      <th>2</th>\n",
       "      <td>3</td>\n",
       "      <td>60</td>\n",
       "      <td>RL</td>\n",
       "      <td>68.0</td>\n",
       "      <td>11250</td>\n",
       "      <td>Pave</td>\n",
       "      <td>NaN</td>\n",
       "      <td>IR1</td>\n",
       "      <td>Lvl</td>\n",
       "      <td>AllPub</td>\n",
       "      <td>...</td>\n",
       "      <td>0</td>\n",
       "      <td>NaN</td>\n",
       "      <td>NaN</td>\n",
       "      <td>NaN</td>\n",
       "      <td>0</td>\n",
       "      <td>9</td>\n",
       "      <td>2008</td>\n",
       "      <td>WD</td>\n",
       "      <td>Normal</td>\n",
       "      <td>223500</td>\n",
       "    </tr>\n",
       "    <tr>\n",
       "      <th>3</th>\n",
       "      <td>4</td>\n",
       "      <td>70</td>\n",
       "      <td>RL</td>\n",
       "      <td>60.0</td>\n",
       "      <td>9550</td>\n",
       "      <td>Pave</td>\n",
       "      <td>NaN</td>\n",
       "      <td>IR1</td>\n",
       "      <td>Lvl</td>\n",
       "      <td>AllPub</td>\n",
       "      <td>...</td>\n",
       "      <td>0</td>\n",
       "      <td>NaN</td>\n",
       "      <td>NaN</td>\n",
       "      <td>NaN</td>\n",
       "      <td>0</td>\n",
       "      <td>2</td>\n",
       "      <td>2006</td>\n",
       "      <td>WD</td>\n",
       "      <td>Abnorml</td>\n",
       "      <td>140000</td>\n",
       "    </tr>\n",
       "    <tr>\n",
       "      <th>4</th>\n",
       "      <td>5</td>\n",
       "      <td>60</td>\n",
       "      <td>RL</td>\n",
       "      <td>84.0</td>\n",
       "      <td>14260</td>\n",
       "      <td>Pave</td>\n",
       "      <td>NaN</td>\n",
       "      <td>IR1</td>\n",
       "      <td>Lvl</td>\n",
       "      <td>AllPub</td>\n",
       "      <td>...</td>\n",
       "      <td>0</td>\n",
       "      <td>NaN</td>\n",
       "      <td>NaN</td>\n",
       "      <td>NaN</td>\n",
       "      <td>0</td>\n",
       "      <td>12</td>\n",
       "      <td>2008</td>\n",
       "      <td>WD</td>\n",
       "      <td>Normal</td>\n",
       "      <td>250000</td>\n",
       "    </tr>\n",
       "  </tbody>\n",
       "</table>\n",
       "<p>5 rows × 81 columns</p>\n",
       "</div>"
      ],
      "text/plain": [
       "   Id  MSSubClass MSZoning  LotFrontage  LotArea Street Alley LotShape  \\\n",
       "0   1          60       RL         65.0     8450   Pave   NaN      Reg   \n",
       "1   2          20       RL         80.0     9600   Pave   NaN      Reg   \n",
       "2   3          60       RL         68.0    11250   Pave   NaN      IR1   \n",
       "3   4          70       RL         60.0     9550   Pave   NaN      IR1   \n",
       "4   5          60       RL         84.0    14260   Pave   NaN      IR1   \n",
       "\n",
       "  LandContour Utilities    ...     PoolArea PoolQC Fence MiscFeature MiscVal  \\\n",
       "0         Lvl    AllPub    ...            0    NaN   NaN         NaN       0   \n",
       "1         Lvl    AllPub    ...            0    NaN   NaN         NaN       0   \n",
       "2         Lvl    AllPub    ...            0    NaN   NaN         NaN       0   \n",
       "3         Lvl    AllPub    ...            0    NaN   NaN         NaN       0   \n",
       "4         Lvl    AllPub    ...            0    NaN   NaN         NaN       0   \n",
       "\n",
       "  MoSold YrSold  SaleType  SaleCondition  SalePrice  \n",
       "0      2   2008        WD         Normal     208500  \n",
       "1      5   2007        WD         Normal     181500  \n",
       "2      9   2008        WD         Normal     223500  \n",
       "3      2   2006        WD        Abnorml     140000  \n",
       "4     12   2008        WD         Normal     250000  \n",
       "\n",
       "[5 rows x 81 columns]"
      ]
     },
     "execution_count": 4,
     "metadata": {},
     "output_type": "execute_result"
    }
   ],
   "source": [
    "train.head()"
   ]
  },
  {
   "cell_type": "markdown",
   "metadata": {},
   "source": [
    "### Plot the data - as part of exploration"
   ]
  },
  {
   "cell_type": "code",
   "execution_count": 5,
   "metadata": {
    "collapsed": true
   },
   "outputs": [],
   "source": [
    "import matplotlib.pyplot as plt\n",
    "plt.style.use(style='ggplot')\n",
    "plt.rcParams['figure.figsize'] = (10,6)"
   ]
  },
  {
   "cell_type": "code",
   "execution_count": 6,
   "metadata": {
    "collapsed": false
   },
   "outputs": [
    {
     "data": {
      "text/plain": [
       "count      1460.000000\n",
       "mean     180921.195890\n",
       "std       79442.502883\n",
       "min       34900.000000\n",
       "25%      129975.000000\n",
       "50%      163000.000000\n",
       "75%      214000.000000\n",
       "max      755000.000000\n",
       "Name: SalePrice, dtype: float64"
      ]
     },
     "execution_count": 6,
     "metadata": {},
     "output_type": "execute_result"
    }
   ],
   "source": [
    "train.SalePrice.describe()"
   ]
  },
  {
   "cell_type": "code",
   "execution_count": 7,
   "metadata": {
    "collapsed": false
   },
   "outputs": [
    {
     "data": {
      "text/plain": [
       "19.113827924512311"
      ]
     },
     "execution_count": 7,
     "metadata": {},
     "output_type": "execute_result"
    }
   ],
   "source": [
    "np.log(200000000)"
   ]
  },
  {
   "cell_type": "code",
   "execution_count": 8,
   "metadata": {
    "collapsed": false
   },
   "outputs": [
    {
     "data": {
      "text/plain": [
       "200000000.0"
      ]
     },
     "execution_count": 8,
     "metadata": {},
     "output_type": "execute_result"
    }
   ],
   "source": [
    "np.exp(19.113827924512311)"
   ]
  },
  {
   "cell_type": "code",
   "execution_count": 9,
   "metadata": {
    "collapsed": false
   },
   "outputs": [
    {
     "data": {
      "text/plain": [
       "1.8828757597682129"
      ]
     },
     "execution_count": 9,
     "metadata": {},
     "output_type": "execute_result"
    }
   ],
   "source": [
    "#Skew is :\n",
    "train.SalePrice.skew()"
   ]
  },
  {
   "cell_type": "code",
   "execution_count": 10,
   "metadata": {
    "collapsed": false
   },
   "outputs": [
    {
     "data": {
      "text/plain": [
       "(array([ 148.,  723.,  373.,  135.,   51.,   19.,    4.,    3.,    2.,    2.]),\n",
       " array([  34900.,  106910.,  178920.,  250930.,  322940.,  394950.,\n",
       "         466960.,  538970.,  610980.,  682990.,  755000.]),\n",
       " <a list of 10 Patch objects>)"
      ]
     },
     "execution_count": 10,
     "metadata": {},
     "output_type": "execute_result"
    }
   ],
   "source": [
    "plt.hist(train.SalePrice,color='green')"
   ]
  },
  {
   "cell_type": "code",
   "execution_count": 11,
   "metadata": {
    "collapsed": false
   },
   "outputs": [
    {
     "data": {
      "image/png": "[encoded data removed]",
      "text/plain": [
       "<matplotlib.figure.Figure at 0x10c8ff400>"
      ]
     },
     "metadata": {},
     "output_type": "display_data"
    }
   ],
   "source": [
    "plt.show()"
   ]
  },
  {
   "cell_type": "code",
   "execution_count": 12,
   "metadata": {
    "collapsed": true
   },
   "outputs": [],
   "source": [
    "#Try log function to reduce skewness\n",
    "#lets convert the saleprice to their log value\n",
    "\n",
    "target = np.log(train.SalePrice)"
   ]
  },
  {
   "cell_type": "code",
   "execution_count": 13,
   "metadata": {
    "collapsed": false
   },
   "outputs": [
    {
     "data": {
      "text/plain": [
       "count    1460.000000\n",
       "mean       12.024051\n",
       "std         0.399452\n",
       "min        10.460242\n",
       "25%        11.775097\n",
       "50%        12.001505\n",
       "75%        12.273731\n",
       "max        13.534473\n",
       "Name: SalePrice, dtype: float64"
      ]
     },
     "execution_count": 13,
     "metadata": {},
     "output_type": "execute_result"
    }
   ],
   "source": [
    "target.describe()"
   ]
  },
  {
   "cell_type": "code",
   "execution_count": 14,
   "metadata": {
    "collapsed": false
   },
   "outputs": [
    {
     "data": {
      "text/plain": [
       "0.12133506220520406"
      ]
     },
     "execution_count": 14,
     "metadata": {},
     "output_type": "execute_result"
    }
   ],
   "source": [
    "#New skew is :\n",
    "target.skew() \n",
    "# A value closer to 0 considered to be good"
   ]
  },
  {
   "cell_type": "code",
   "execution_count": 15,
   "metadata": {
    "collapsed": false
   },
   "outputs": [
    {
     "data": {
      "text/plain": [
       "(array([   5.,   12.,   54.,  184.,  470.,  400.,  220.,   90.,   19.,    6.]),\n",
       " array([ 10.46024211,  10.7676652 ,  11.07508829,  11.38251138,\n",
       "         11.68993448,  11.99735757,  12.30478066,  12.61220375,\n",
       "         12.91962684,  13.22704994,  13.53447303]),\n",
       " <a list of 10 Patch objects>)"
      ]
     },
     "execution_count": 15,
     "metadata": {},
     "output_type": "execute_result"
    }
   ],
   "source": [
    "plt.hist(target,color='green')"
   ]
  },
  {
   "cell_type": "code",
   "execution_count": 16,
   "metadata": {
    "collapsed": false
   },
   "outputs": [
    {
     "data": {
      "image/png": "[encoded data removed]",
      "text/plain": [
       "<matplotlib.figure.Figure at 0x10c8ff2b0>"
      ]
     },
     "metadata": {},
     "output_type": "display_data"
    }
   ],
   "source": [
    "plt.show()"
   ]
  },
  {
   "cell_type": "markdown",
   "metadata": {},
   "source": [
    "### Feature Engineering"
   ]
  },
  {
   "cell_type": "code",
   "execution_count": 17,
   "metadata": {
    "collapsed": true
   },
   "outputs": [],
   "source": [
    "#First, we’ll check out the numerical features and make some plots. \n",
    "#The .select_dtypes() method \n",
    "#will return a subset of columns matching the specified data types."
   ]
  },
  {
   "cell_type": "code",
   "execution_count": 18,
   "metadata": {
    "collapsed": true
   },
   "outputs": [],
   "source": [
    "numeric_features = train.select_dtypes(include=[np.number])"
   ]
  },
  {
   "cell_type": "code",
   "execution_count": 19,
   "metadata": {
    "collapsed": false
   },
   "outputs": [
    {
     "data": {
      "text/plain": [
       "Id                 int64\n",
       "MSSubClass         int64\n",
       "LotFrontage      float64\n",
       "LotArea            int64\n",
       "OverallQual        int64\n",
       "OverallCond        int64\n",
       "YearBuilt          int64\n",
       "YearRemodAdd       int64\n",
       "MasVnrArea       float64\n",
       "BsmtFinSF1         int64\n",
       "BsmtFinSF2         int64\n",
       "BsmtUnfSF          int64\n",
       "TotalBsmtSF        int64\n",
       "1stFlrSF           int64\n",
       "2ndFlrSF           int64\n",
       "LowQualFinSF       int64\n",
       "GrLivArea          int64\n",
       "BsmtFullBath       int64\n",
       "BsmtHalfBath       int64\n",
       "FullBath           int64\n",
       "HalfBath           int64\n",
       "BedroomAbvGr       int64\n",
       "KitchenAbvGr       int64\n",
       "TotRmsAbvGrd       int64\n",
       "Fireplaces         int64\n",
       "GarageYrBlt      float64\n",
       "GarageCars         int64\n",
       "GarageArea         int64\n",
       "WoodDeckSF         int64\n",
       "OpenPorchSF        int64\n",
       "EnclosedPorch      int64\n",
       "3SsnPorch          int64\n",
       "ScreenPorch        int64\n",
       "PoolArea           int64\n",
       "MiscVal            int64\n",
       "MoSold             int64\n",
       "YrSold             int64\n",
       "SalePrice          int64\n",
       "dtype: object"
      ]
     },
     "execution_count": 19,
     "metadata": {},
     "output_type": "execute_result"
    }
   ],
   "source": [
    "numeric_features.dtypes"
   ]
  },
  {
   "cell_type": "code",
   "execution_count": 20,
   "metadata": {
    "collapsed": false
   },
   "outputs": [
    {
     "data": {
      "text/plain": [
       "MSZoning         object\n",
       "Street           object\n",
       "Alley            object\n",
       "LotShape         object\n",
       "LandContour      object\n",
       "Utilities        object\n",
       "LotConfig        object\n",
       "LandSlope        object\n",
       "Neighborhood     object\n",
       "Condition1       object\n",
       "Condition2       object\n",
       "BldgType         object\n",
       "HouseStyle       object\n",
       "RoofStyle        object\n",
       "RoofMatl         object\n",
       "Exterior1st      object\n",
       "Exterior2nd      object\n",
       "MasVnrType       object\n",
       "ExterQual        object\n",
       "ExterCond        object\n",
       "Foundation       object\n",
       "BsmtQual         object\n",
       "BsmtCond         object\n",
       "BsmtExposure     object\n",
       "BsmtFinType1     object\n",
       "BsmtFinType2     object\n",
       "Heating          object\n",
       "HeatingQC        object\n",
       "CentralAir       object\n",
       "Electrical       object\n",
       "KitchenQual      object\n",
       "Functional       object\n",
       "FireplaceQu      object\n",
       "GarageType       object\n",
       "GarageFinish     object\n",
       "GarageQual       object\n",
       "GarageCond       object\n",
       "PavedDrive       object\n",
       "PoolQC           object\n",
       "Fence            object\n",
       "MiscFeature      object\n",
       "SaleType         object\n",
       "SaleCondition    object\n",
       "dtype: object"
      ]
     },
     "execution_count": 20,
     "metadata": {},
     "output_type": "execute_result"
    }
   ],
   "source": [
    "#if you are curious for non-integer variables\n",
    "train.select_dtypes(include=[np.object]).dtypes"
   ]
  },
  {
   "cell_type": "code",
   "execution_count": 21,
   "metadata": {
    "collapsed": true
   },
   "outputs": [],
   "source": [
    "#The DataFrame.corr() method displays the correlation (or relationship) between the columns. We’ll examine the correlations between \n",
    "#the features and the target.\n",
    "corr = numeric_features.corr()"
   ]
  },
  {
   "cell_type": "code",
   "execution_count": 22,
   "metadata": {
    "collapsed": false
   },
   "outputs": [
    {
     "data": {
      "text/plain": [
       "pandas.core.frame.DataFrame"
      ]
     },
     "execution_count": 22,
     "metadata": {},
     "output_type": "execute_result"
    }
   ],
   "source": [
    "type(corr)"
   ]
  },
  {
   "cell_type": "code",
   "execution_count": 23,
   "metadata": {
    "collapsed": false
   },
   "outputs": [
    {
     "data": {
      "text/html": [
       "<div>\n",
       "<table border=\"1\" class=\"dataframe\">\n",
       "  <thead>\n",
       "    <tr style=\"text-align: right;\">\n",
       "      <th></th>\n",
       "      <th>Id</th>\n",
       "      <th>MSSubClass</th>\n",
       "      <th>LotFrontage</th>\n",
       "      <th>LotArea</th>\n",
       "      <th>OverallQual</th>\n",
       "      <th>OverallCond</th>\n",
       "      <th>YearBuilt</th>\n",
       "      <th>YearRemodAdd</th>\n",
       "      <th>MasVnrArea</th>\n",
       "      <th>BsmtFinSF1</th>\n",
       "      <th>...</th>\n",
       "      <th>WoodDeckSF</th>\n",
       "      <th>OpenPorchSF</th>\n",
       "      <th>EnclosedPorch</th>\n",
       "      <th>3SsnPorch</th>\n",
       "      <th>ScreenPorch</th>\n",
       "      <th>PoolArea</th>\n",
       "      <th>MiscVal</th>\n",
       "      <th>MoSold</th>\n",
       "      <th>YrSold</th>\n",
       "      <th>SalePrice</th>\n",
       "    </tr>\n",
       "  </thead>\n",
       "  <tbody>\n",
       "    <tr>\n",
       "      <th>count</th>\n",
       "      <td>38.000000</td>\n",
       "      <td>38.000000</td>\n",
       "      <td>38.000000</td>\n",
       "      <td>38.000000</td>\n",
       "      <td>38.000000</td>\n",
       "      <td>38.000000</td>\n",
       "      <td>38.000000</td>\n",
       "      <td>38.000000</td>\n",
       "      <td>38.000000</td>\n",
       "      <td>38.000000</td>\n",
       "      <td>...</td>\n",
       "      <td>38.000000</td>\n",
       "      <td>38.000000</td>\n",
       "      <td>38.000000</td>\n",
       "      <td>38.000000</td>\n",
       "      <td>38.000000</td>\n",
       "      <td>38.000000</td>\n",
       "      <td>38.000000</td>\n",
       "      <td>38.000000</td>\n",
       "      <td>38.000000</td>\n",
       "      <td>38.000000</td>\n",
       "    </tr>\n",
       "    <tr>\n",
       "      <th>mean</th>\n",
       "      <td>0.022829</td>\n",
       "      <td>0.013228</td>\n",
       "      <td>0.165250</td>\n",
       "      <td>0.120411</td>\n",
       "      <td>0.260795</td>\n",
       "      <td>-0.025846</td>\n",
       "      <td>0.171217</td>\n",
       "      <td>0.177344</td>\n",
       "      <td>0.169392</td>\n",
       "      <td>0.132625</td>\n",
       "      <td>...</td>\n",
       "      <td>0.127875</td>\n",
       "      <td>0.140120</td>\n",
       "      <td>-0.027989</td>\n",
       "      <td>0.035447</td>\n",
       "      <td>0.056039</td>\n",
       "      <td>0.075679</td>\n",
       "      <td>0.024339</td>\n",
       "      <td>0.039160</td>\n",
       "      <td>0.013155</td>\n",
       "      <td>0.293053</td>\n",
       "    </tr>\n",
       "    <tr>\n",
       "      <th>std</th>\n",
       "      <td>0.164327</td>\n",
       "      <td>0.206872</td>\n",
       "      <td>0.217781</td>\n",
       "      <td>0.187661</td>\n",
       "      <td>0.283448</td>\n",
       "      <td>0.200596</td>\n",
       "      <td>0.299184</td>\n",
       "      <td>0.246353</td>\n",
       "      <td>0.214785</td>\n",
       "      <td>0.251963</td>\n",
       "      <td>...</td>\n",
       "      <td>0.184927</td>\n",
       "      <td>0.185041</td>\n",
       "      <td>0.196558</td>\n",
       "      <td>0.163405</td>\n",
       "      <td>0.167260</td>\n",
       "      <td>0.164106</td>\n",
       "      <td>0.164466</td>\n",
       "      <td>0.164511</td>\n",
       "      <td>0.168315</td>\n",
       "      <td>0.291845</td>\n",
       "    </tr>\n",
       "    <tr>\n",
       "      <th>min</th>\n",
       "      <td>-0.050298</td>\n",
       "      <td>-0.386347</td>\n",
       "      <td>-0.386347</td>\n",
       "      <td>-0.139781</td>\n",
       "      <td>-0.183882</td>\n",
       "      <td>-0.375983</td>\n",
       "      <td>-0.387268</td>\n",
       "      <td>-0.193919</td>\n",
       "      <td>-0.128101</td>\n",
       "      <td>-0.495251</td>\n",
       "      <td>...</td>\n",
       "      <td>-0.125989</td>\n",
       "      <td>-0.093079</td>\n",
       "      <td>-0.387268</td>\n",
       "      <td>-0.046635</td>\n",
       "      <td>-0.082864</td>\n",
       "      <td>-0.059689</td>\n",
       "      <td>-0.043080</td>\n",
       "      <td>-0.145721</td>\n",
       "      <td>-0.145721</td>\n",
       "      <td>-0.135907</td>\n",
       "    </tr>\n",
       "    <tr>\n",
       "      <th>25%</th>\n",
       "      <td>-0.018682</td>\n",
       "      <td>-0.055879</td>\n",
       "      <td>0.039197</td>\n",
       "      <td>0.007031</td>\n",
       "      <td>0.030935</td>\n",
       "      <td>-0.090699</td>\n",
       "      <td>-0.013391</td>\n",
       "      <td>0.007819</td>\n",
       "      <td>0.013491</td>\n",
       "      <td>-0.013051</td>\n",
       "      <td>...</td>\n",
       "      <td>0.002752</td>\n",
       "      <td>0.006882</td>\n",
       "      <td>-0.108229</td>\n",
       "      <td>-0.007664</td>\n",
       "      <td>-0.005747</td>\n",
       "      <td>0.009143</td>\n",
       "      <td>-0.020468</td>\n",
       "      <td>-0.006362</td>\n",
       "      <td>-0.028922</td>\n",
       "      <td>0.002612</td>\n",
       "    </tr>\n",
       "    <tr>\n",
       "      <th>50%</th>\n",
       "      <td>0.000392</td>\n",
       "      <td>-0.009860</td>\n",
       "      <td>0.112149</td>\n",
       "      <td>0.081223</td>\n",
       "      <td>0.245656</td>\n",
       "      <td>-0.039410</td>\n",
       "      <td>0.135533</td>\n",
       "      <td>0.123960</td>\n",
       "      <td>0.142710</td>\n",
       "      <td>0.089590</td>\n",
       "      <td>...</td>\n",
       "      <td>0.100123</td>\n",
       "      <td>0.118732</td>\n",
       "      <td>-0.026855</td>\n",
       "      <td>0.019609</td>\n",
       "      <td>0.042272</td>\n",
       "      <td>0.055623</td>\n",
       "      <td>-0.005018</td>\n",
       "      <td>0.021331</td>\n",
       "      <td>-0.013940</td>\n",
       "      <td>0.299982</td>\n",
       "    </tr>\n",
       "    <tr>\n",
       "      <th>75%</th>\n",
       "      <td>0.009940</td>\n",
       "      <td>0.038442</td>\n",
       "      <td>0.265772</td>\n",
       "      <td>0.178226</td>\n",
       "      <td>0.522412</td>\n",
       "      <td>0.025501</td>\n",
       "      <td>0.307277</td>\n",
       "      <td>0.275636</td>\n",
       "      <td>0.279719</td>\n",
       "      <td>0.238158</td>\n",
       "      <td>...</td>\n",
       "      <td>0.219864</td>\n",
       "      <td>0.223116</td>\n",
       "      <td>0.010304</td>\n",
       "      <td>0.034154</td>\n",
       "      <td>0.064170</td>\n",
       "      <td>0.080533</td>\n",
       "      <td>0.007060</td>\n",
       "      <td>0.036471</td>\n",
       "      <td>0.009883</td>\n",
       "      <td>0.518948</td>\n",
       "    </tr>\n",
       "    <tr>\n",
       "      <th>max</th>\n",
       "      <td>1.000000</td>\n",
       "      <td>1.000000</td>\n",
       "      <td>1.000000</td>\n",
       "      <td>1.000000</td>\n",
       "      <td>1.000000</td>\n",
       "      <td>1.000000</td>\n",
       "      <td>1.000000</td>\n",
       "      <td>1.000000</td>\n",
       "      <td>1.000000</td>\n",
       "      <td>1.000000</td>\n",
       "      <td>...</td>\n",
       "      <td>1.000000</td>\n",
       "      <td>1.000000</td>\n",
       "      <td>1.000000</td>\n",
       "      <td>1.000000</td>\n",
       "      <td>1.000000</td>\n",
       "      <td>1.000000</td>\n",
       "      <td>1.000000</td>\n",
       "      <td>1.000000</td>\n",
       "      <td>1.000000</td>\n",
       "      <td>1.000000</td>\n",
       "    </tr>\n",
       "  </tbody>\n",
       "</table>\n",
       "<p>8 rows × 38 columns</p>\n",
       "</div>"
      ],
      "text/plain": [
       "              Id  MSSubClass  LotFrontage    LotArea  OverallQual  \\\n",
       "count  38.000000   38.000000    38.000000  38.000000    38.000000   \n",
       "mean    0.022829    0.013228     0.165250   0.120411     0.260795   \n",
       "std     0.164327    0.206872     0.217781   0.187661     0.283448   \n",
       "min    -0.050298   -0.386347    -0.386347  -0.139781    -0.183882   \n",
       "25%    -0.018682   -0.055879     0.039197   0.007031     0.030935   \n",
       "50%     0.000392   -0.009860     0.112149   0.081223     0.245656   \n",
       "75%     0.009940    0.038442     0.265772   0.178226     0.522412   \n",
       "max     1.000000    1.000000     1.000000   1.000000     1.000000   \n",
       "\n",
       "       OverallCond  YearBuilt  YearRemodAdd  MasVnrArea  BsmtFinSF1  \\\n",
       "count    38.000000  38.000000     38.000000   38.000000   38.000000   \n",
       "mean     -0.025846   0.171217      0.177344    0.169392    0.132625   \n",
       "std       0.200596   0.299184      0.246353    0.214785    0.251963   \n",
       "min      -0.375983  -0.387268     -0.193919   -0.128101   -0.495251   \n",
       "25%      -0.090699  -0.013391      0.007819    0.013491   -0.013051   \n",
       "50%      -0.039410   0.135533      0.123960    0.142710    0.089590   \n",
       "75%       0.025501   0.307277      0.275636    0.279719    0.238158   \n",
       "max       1.000000   1.000000      1.000000    1.000000    1.000000   \n",
       "\n",
       "         ...      WoodDeckSF  OpenPorchSF  EnclosedPorch  3SsnPorch  \\\n",
       "count    ...       38.000000    38.000000      38.000000  38.000000   \n",
       "mean     ...        0.127875     0.140120      -0.027989   0.035447   \n",
       "std      ...        0.184927     0.185041       0.196558   0.163405   \n",
       "min      ...       -0.125989    -0.093079      -0.387268  -0.046635   \n",
       "25%      ...        0.002752     0.006882      -0.108229  -0.007664   \n",
       "50%      ...        0.100123     0.118732      -0.026855   0.019609   \n",
       "75%      ...        0.219864     0.223116       0.010304   0.034154   \n",
       "max      ...        1.000000     1.000000       1.000000   1.000000   \n",
       "\n",
       "       ScreenPorch   PoolArea    MiscVal     MoSold     YrSold  SalePrice  \n",
       "count    38.000000  38.000000  38.000000  38.000000  38.000000  38.000000  \n",
       "mean      0.056039   0.075679   0.024339   0.039160   0.013155   0.293053  \n",
       "std       0.167260   0.164106   0.164466   0.164511   0.168315   0.291845  \n",
       "min      -0.082864  -0.059689  -0.043080  -0.145721  -0.145721  -0.135907  \n",
       "25%      -0.005747   0.009143  -0.020468  -0.006362  -0.028922   0.002612  \n",
       "50%       0.042272   0.055623  -0.005018   0.021331  -0.013940   0.299982  \n",
       "75%       0.064170   0.080533   0.007060   0.036471   0.009883   0.518948  \n",
       "max       1.000000   1.000000   1.000000   1.000000   1.000000   1.000000  \n",
       "\n",
       "[8 rows x 38 columns]"
      ]
     },
     "execution_count": 23,
     "metadata": {},
     "output_type": "execute_result"
    }
   ],
   "source": [
    "corr.describe()"
   ]
  },
  {
   "cell_type": "code",
   "execution_count": 24,
   "metadata": {
    "collapsed": false
   },
   "outputs": [],
   "source": [
    "#corr.head"
   ]
  },
  {
   "cell_type": "code",
   "execution_count": 25,
   "metadata": {
    "collapsed": false
   },
   "outputs": [
    {
     "name": "stdout",
     "output_type": "stream",
     "text": [
      "SalePrice      1.000000\n",
      "OverallQual    0.790982\n",
      "GrLivArea      0.708624\n",
      "GarageCars     0.640409\n",
      "GarageArea     0.623431\n",
      "Name: SalePrice, dtype: float64\n"
     ]
    }
   ],
   "source": [
    "#most corelated 5 variables\n",
    "print(corr['SalePrice'].sort_values(ascending=False)[:5])"
   ]
  },
  {
   "cell_type": "code",
   "execution_count": 26,
   "metadata": {
    "collapsed": true
   },
   "outputs": [],
   "source": [
    "#Least corelated 5 variables"
   ]
  },
  {
   "cell_type": "code",
   "execution_count": 27,
   "metadata": {
    "collapsed": false
   },
   "outputs": [
    {
     "name": "stdout",
     "output_type": "stream",
     "text": [
      "YrSold          -0.028923\n",
      "OverallCond     -0.077856\n",
      "MSSubClass      -0.084284\n",
      "EnclosedPorch   -0.128578\n",
      "KitchenAbvGr    -0.135907\n",
      "Name: SalePrice, dtype: float64\n"
     ]
    }
   ],
   "source": [
    "print(corr['SalePrice'].sort_values(ascending=False)[-5:])"
   ]
  },
  {
   "cell_type": "code",
   "execution_count": 28,
   "metadata": {
    "collapsed": false
   },
   "outputs": [
    {
     "data": {
      "text/plain": [
       "array([ 7,  6,  8,  5,  9,  4, 10,  3,  1,  2])"
      ]
     },
     "execution_count": 28,
     "metadata": {},
     "output_type": "execute_result"
    }
   ],
   "source": [
    "#Let’s dig deeper on OverallQual\n",
    "train.OverallQual.unique()"
   ]
  },
  {
   "cell_type": "code",
   "execution_count": 29,
   "metadata": {
    "collapsed": false
   },
   "outputs": [
    {
     "data": {
      "text/plain": [
       "5     397\n",
       "6     374\n",
       "7     319\n",
       "8     168\n",
       "4     116\n",
       "9      43\n",
       "3      20\n",
       "10     18\n",
       "2       3\n",
       "1       2\n",
       "Name: OverallQual, dtype: int64"
      ]
     },
     "execution_count": 29,
     "metadata": {},
     "output_type": "execute_result"
    }
   ],
   "source": [
    "#If you want to see frequency distributions - Condition 5 is most common\n",
    "train.OverallQual.value_counts()"
   ]
  },
  {
   "cell_type": "code",
   "execution_count": 30,
   "metadata": {
    "collapsed": true
   },
   "outputs": [],
   "source": [
    "# Create a Pivot table to see SalePrice and OverallQual relationship\n",
    "\n",
    "quality_pivot = train.pivot_table(index='OverallQual',values='SalePrice',\n",
    "                                 aggfunc=np.median)"
   ]
  },
  {
   "cell_type": "code",
   "execution_count": 31,
   "metadata": {
    "collapsed": false
   },
   "outputs": [
    {
     "data": {
      "text/plain": [
       "OverallQual\n",
       "1      50150\n",
       "2      60000\n",
       "3      86250\n",
       "4     108000\n",
       "5     133000\n",
       "6     160000\n",
       "7     200141\n",
       "8     269750\n",
       "9     345000\n",
       "10    432390\n",
       "Name: SalePrice, dtype: int64"
      ]
     },
     "execution_count": 31,
     "metadata": {},
     "output_type": "execute_result"
    }
   ],
   "source": [
    "quality_pivot"
   ]
  },
  {
   "cell_type": "code",
   "execution_count": 32,
   "metadata": {
    "collapsed": false
   },
   "outputs": [
    {
     "data": {
      "image/png": "[encoded data removed]",
      "text/plain": [
       "<matplotlib.figure.Figure at 0x10fdc4898>"
      ]
     },
     "metadata": {},
     "output_type": "display_data"
    }
   ],
   "source": [
    "# We can see the above result in a bar chart\n",
    "quality_pivot.plot(kind='bar', color='green')\n",
    "plt.xlabel('Overall Quality')\n",
    "plt.ylabel('Median Sale Price')\n",
    "plt.xticks(rotation=0)\n",
    "plt.show()\n",
    "\n",
    "#Notice that the median sales price strictly increases as Overall Quality increases."
   ]
  },
  {
   "cell_type": "code",
   "execution_count": 33,
   "metadata": {
    "collapsed": true
   },
   "outputs": [],
   "source": [
    "#scatter plot to visualize relationship betwwn GrLiveArea and Saleprice"
   ]
  },
  {
   "cell_type": "code",
   "execution_count": 34,
   "metadata": {
    "collapsed": false
   },
   "outputs": [
    {
     "data": {
      "image/png": "[encoded data removed]",
      "text/plain": [
       "<matplotlib.figure.Figure at 0x10ff65ac8>"
      ]
     },
     "metadata": {},
     "output_type": "display_data"
    }
   ],
   "source": [
    "plt.scatter(x=train['GrLivArea'],y=target,color='green')\n",
    "plt.ylabel('Sale Price')\n",
    "plt.xlabel('Above grade (ground) living area square feet')\n",
    "plt.show()"
   ]
  },
  {
   "cell_type": "code",
   "execution_count": 35,
   "metadata": {
    "collapsed": false
   },
   "outputs": [
    {
     "data": {
      "image/png": "[encoded data removed]",
      "text/plain": [
       "<matplotlib.figure.Figure at 0x11007b470>"
      ]
     },
     "metadata": {},
     "output_type": "display_data"
    }
   ],
   "source": [
    "#lets see for GarageArea\n",
    "plt.scatter(x=train['GarageArea'], y=target,color='green')\n",
    "plt.ylabel('Sale Price')\n",
    "plt.xlabel('Garage Area')\n",
    "plt.show()"
   ]
  },
  {
   "cell_type": "markdown",
   "metadata": {},
   "source": [
    "Notice that there are many homes with 0 for Garage Area, indicating that they don’t have a garage. We’ll transform other features later to reflect this assumption. There are a few outliers as well. Outliers can affect a regression model by pulling our estimated regression line further away from the true population regression line. So, we’ll remove those observations from our data. Removing outliers is an art and a science. There are many techniques for dealing with outliers."
   ]
  },
  {
   "cell_type": "code",
   "execution_count": 36,
   "metadata": {
    "collapsed": true
   },
   "outputs": [],
   "source": [
    "train = train[train['GarageArea'] < 1200]"
   ]
  },
  {
   "cell_type": "code",
   "execution_count": 37,
   "metadata": {
    "collapsed": false
   },
   "outputs": [
    {
     "data": {
      "text/plain": [
       "(1455, 81)"
      ]
     },
     "execution_count": 37,
     "metadata": {},
     "output_type": "execute_result"
    }
   ],
   "source": [
    "train.shape"
   ]
  },
  {
   "cell_type": "code",
   "execution_count": 38,
   "metadata": {
    "collapsed": false
   },
   "outputs": [
    {
     "data": {
      "image/png": "[encoded data removed]",
      "text/plain": [
       "<matplotlib.figure.Figure at 0x10ff2e6d8>"
      ]
     },
     "metadata": {},
     "output_type": "display_data"
    }
   ],
   "source": [
    "plt.scatter(x=train['GarageArea'], y=np.log(train.SalePrice))\n",
    "#plt.xlim(-200,1600) # This forces the same scale as before\n",
    "plt.ylabel('Sale Price')\n",
    "plt.xlabel('Garage Area')\n",
    "plt.show()"
   ]
  },
  {
   "cell_type": "code",
   "execution_count": 39,
   "metadata": {
    "collapsed": false
   },
   "outputs": [
    {
     "data": {
      "text/plain": [
       "PoolQC          1449\n",
       "MiscFeature     1402\n",
       "Alley           1364\n",
       "Fence           1174\n",
       "FireplaceQu      689\n",
       "LotFrontage      258\n",
       "GarageCond        81\n",
       "GarageType        81\n",
       "GarageYrBlt       81\n",
       "GarageFinish      81\n",
       "GarageQual        81\n",
       "BsmtExposure      38\n",
       "BsmtFinType2      38\n",
       "BsmtFinType1      37\n",
       "BsmtCond          37\n",
       "BsmtQual          37\n",
       "MasVnrArea         8\n",
       "MasVnrType         8\n",
       "Electrical         1\n",
       "Utilities          0\n",
       "YearRemodAdd       0\n",
       "MSSubClass         0\n",
       "Foundation         0\n",
       "ExterCond          0\n",
       "ExterQual          0\n",
       "dtype: int64"
      ]
     },
     "execution_count": 39,
     "metadata": {},
     "output_type": "execute_result"
    }
   ],
   "source": [
    "train.isnull().sum().sort_values(ascending=False)[:25]"
   ]
  },
  {
   "cell_type": "code",
   "execution_count": 40,
   "metadata": {
    "collapsed": true
   },
   "outputs": [],
   "source": [
    "nulls = pd.DataFrame(train.isnull().sum().sort_values(ascending=False)[:25])"
   ]
  },
  {
   "cell_type": "code",
   "execution_count": 41,
   "metadata": {
    "collapsed": false
   },
   "outputs": [
    {
     "data": {
      "text/plain": [
       "RangeIndex(start=0, stop=1, step=1)"
      ]
     },
     "execution_count": 41,
     "metadata": {},
     "output_type": "execute_result"
    }
   ],
   "source": [
    "nulls.columns"
   ]
  },
  {
   "cell_type": "code",
   "execution_count": 42,
   "metadata": {
    "collapsed": false
   },
   "outputs": [
    {
     "data": {
      "text/plain": [
       "(25, 1)"
      ]
     },
     "execution_count": 42,
     "metadata": {},
     "output_type": "execute_result"
    }
   ],
   "source": [
    "nulls.shape"
   ]
  },
  {
   "cell_type": "code",
   "execution_count": 43,
   "metadata": {
    "collapsed": false
   },
   "outputs": [
    {
     "data": {
      "text/plain": [
       "<bound method NDFrame.head of                  0\n",
       "PoolQC        1449\n",
       "MiscFeature   1402\n",
       "Alley         1364\n",
       "Fence         1174\n",
       "FireplaceQu    689\n",
       "LotFrontage    258\n",
       "GarageCond      81\n",
       "GarageType      81\n",
       "GarageYrBlt     81\n",
       "GarageFinish    81\n",
       "GarageQual      81\n",
       "BsmtExposure    38\n",
       "BsmtFinType2    38\n",
       "BsmtFinType1    37\n",
       "BsmtCond        37\n",
       "BsmtQual        37\n",
       "MasVnrArea       8\n",
       "MasVnrType       8\n",
       "Electrical       1\n",
       "Utilities        0\n",
       "YearRemodAdd     0\n",
       "MSSubClass       0\n",
       "Foundation       0\n",
       "ExterCond        0\n",
       "ExterQual        0>"
      ]
     },
     "execution_count": 43,
     "metadata": {},
     "output_type": "execute_result"
    }
   ],
   "source": [
    "nulls.head"
   ]
  },
  {
   "cell_type": "code",
   "execution_count": 44,
   "metadata": {
    "collapsed": false
   },
   "outputs": [
    {
     "data": {
      "text/html": [
       "<div>\n",
       "<table border=\"1\" class=\"dataframe\">\n",
       "  <thead>\n",
       "    <tr style=\"text-align: right;\">\n",
       "      <th></th>\n",
       "      <th>Null count</th>\n",
       "    </tr>\n",
       "    <tr>\n",
       "      <th>Feature</th>\n",
       "      <th></th>\n",
       "    </tr>\n",
       "  </thead>\n",
       "  <tbody>\n",
       "    <tr>\n",
       "      <th>PoolQC</th>\n",
       "      <td>1449</td>\n",
       "    </tr>\n",
       "    <tr>\n",
       "      <th>MiscFeature</th>\n",
       "      <td>1402</td>\n",
       "    </tr>\n",
       "    <tr>\n",
       "      <th>Alley</th>\n",
       "      <td>1364</td>\n",
       "    </tr>\n",
       "    <tr>\n",
       "      <th>Fence</th>\n",
       "      <td>1174</td>\n",
       "    </tr>\n",
       "    <tr>\n",
       "      <th>FireplaceQu</th>\n",
       "      <td>689</td>\n",
       "    </tr>\n",
       "    <tr>\n",
       "      <th>LotFrontage</th>\n",
       "      <td>258</td>\n",
       "    </tr>\n",
       "    <tr>\n",
       "      <th>GarageCond</th>\n",
       "      <td>81</td>\n",
       "    </tr>\n",
       "    <tr>\n",
       "      <th>GarageType</th>\n",
       "      <td>81</td>\n",
       "    </tr>\n",
       "    <tr>\n",
       "      <th>GarageYrBlt</th>\n",
       "      <td>81</td>\n",
       "    </tr>\n",
       "    <tr>\n",
       "      <th>GarageFinish</th>\n",
       "      <td>81</td>\n",
       "    </tr>\n",
       "    <tr>\n",
       "      <th>GarageQual</th>\n",
       "      <td>81</td>\n",
       "    </tr>\n",
       "    <tr>\n",
       "      <th>BsmtExposure</th>\n",
       "      <td>38</td>\n",
       "    </tr>\n",
       "    <tr>\n",
       "      <th>BsmtFinType2</th>\n",
       "      <td>38</td>\n",
       "    </tr>\n",
       "    <tr>\n",
       "      <th>BsmtFinType1</th>\n",
       "      <td>37</td>\n",
       "    </tr>\n",
       "    <tr>\n",
       "      <th>BsmtCond</th>\n",
       "      <td>37</td>\n",
       "    </tr>\n",
       "    <tr>\n",
       "      <th>BsmtQual</th>\n",
       "      <td>37</td>\n",
       "    </tr>\n",
       "    <tr>\n",
       "      <th>MasVnrArea</th>\n",
       "      <td>8</td>\n",
       "    </tr>\n",
       "    <tr>\n",
       "      <th>MasVnrType</th>\n",
       "      <td>8</td>\n",
       "    </tr>\n",
       "    <tr>\n",
       "      <th>Electrical</th>\n",
       "      <td>1</td>\n",
       "    </tr>\n",
       "    <tr>\n",
       "      <th>Utilities</th>\n",
       "      <td>0</td>\n",
       "    </tr>\n",
       "    <tr>\n",
       "      <th>YearRemodAdd</th>\n",
       "      <td>0</td>\n",
       "    </tr>\n",
       "    <tr>\n",
       "      <th>MSSubClass</th>\n",
       "      <td>0</td>\n",
       "    </tr>\n",
       "    <tr>\n",
       "      <th>Foundation</th>\n",
       "      <td>0</td>\n",
       "    </tr>\n",
       "    <tr>\n",
       "      <th>ExterCond</th>\n",
       "      <td>0</td>\n",
       "    </tr>\n",
       "    <tr>\n",
       "      <th>ExterQual</th>\n",
       "      <td>0</td>\n",
       "    </tr>\n",
       "  </tbody>\n",
       "</table>\n",
       "</div>"
      ],
      "text/plain": [
       "              Null count\n",
       "Feature                 \n",
       "PoolQC              1449\n",
       "MiscFeature         1402\n",
       "Alley               1364\n",
       "Fence               1174\n",
       "FireplaceQu          689\n",
       "LotFrontage          258\n",
       "GarageCond            81\n",
       "GarageType            81\n",
       "GarageYrBlt           81\n",
       "GarageFinish          81\n",
       "GarageQual            81\n",
       "BsmtExposure          38\n",
       "BsmtFinType2          38\n",
       "BsmtFinType1          37\n",
       "BsmtCond              37\n",
       "BsmtQual              37\n",
       "MasVnrArea             8\n",
       "MasVnrType             8\n",
       "Electrical             1\n",
       "Utilities              0\n",
       "YearRemodAdd           0\n",
       "MSSubClass             0\n",
       "Foundation             0\n",
       "ExterCond              0\n",
       "ExterQual              0"
      ]
     },
     "execution_count": 44,
     "metadata": {},
     "output_type": "execute_result"
    }
   ],
   "source": [
    "nulls.columns=['Null count']\n",
    "nulls.index.name = 'Feature'\n",
    "nulls"
   ]
  },
  {
   "cell_type": "code",
   "execution_count": 45,
   "metadata": {
    "collapsed": false
   },
   "outputs": [
    {
     "name": "stdout",
     "output_type": "stream",
     "text": [
      "Unique values are: [nan 'Shed' 'Gar2' 'Othr' 'TenC']\n"
     ]
    }
   ],
   "source": [
    "print (\"Unique values are:\", train.MiscFeature.unique())"
   ]
  },
  {
   "cell_type": "markdown",
   "metadata": {},
   "source": [
    "### Wrangling non-numeric features"
   ]
  },
  {
   "cell_type": "code",
   "execution_count": 46,
   "metadata": {
    "collapsed": false
   },
   "outputs": [
    {
     "data": {
      "text/html": [
       "<div>\n",
       "<table border=\"1\" class=\"dataframe\">\n",
       "  <thead>\n",
       "    <tr style=\"text-align: right;\">\n",
       "      <th></th>\n",
       "      <th>MSZoning</th>\n",
       "      <th>Street</th>\n",
       "      <th>Alley</th>\n",
       "      <th>LotShape</th>\n",
       "      <th>LandContour</th>\n",
       "      <th>Utilities</th>\n",
       "      <th>LotConfig</th>\n",
       "      <th>LandSlope</th>\n",
       "      <th>Neighborhood</th>\n",
       "      <th>Condition1</th>\n",
       "      <th>...</th>\n",
       "      <th>GarageType</th>\n",
       "      <th>GarageFinish</th>\n",
       "      <th>GarageQual</th>\n",
       "      <th>GarageCond</th>\n",
       "      <th>PavedDrive</th>\n",
       "      <th>PoolQC</th>\n",
       "      <th>Fence</th>\n",
       "      <th>MiscFeature</th>\n",
       "      <th>SaleType</th>\n",
       "      <th>SaleCondition</th>\n",
       "    </tr>\n",
       "  </thead>\n",
       "  <tbody>\n",
       "    <tr>\n",
       "      <th>count</th>\n",
       "      <td>1455</td>\n",
       "      <td>1455</td>\n",
       "      <td>91</td>\n",
       "      <td>1455</td>\n",
       "      <td>1455</td>\n",
       "      <td>1455</td>\n",
       "      <td>1455</td>\n",
       "      <td>1455</td>\n",
       "      <td>1455</td>\n",
       "      <td>1455</td>\n",
       "      <td>...</td>\n",
       "      <td>1374</td>\n",
       "      <td>1374</td>\n",
       "      <td>1374</td>\n",
       "      <td>1374</td>\n",
       "      <td>1455</td>\n",
       "      <td>6</td>\n",
       "      <td>281</td>\n",
       "      <td>53</td>\n",
       "      <td>1455</td>\n",
       "      <td>1455</td>\n",
       "    </tr>\n",
       "    <tr>\n",
       "      <th>unique</th>\n",
       "      <td>5</td>\n",
       "      <td>2</td>\n",
       "      <td>2</td>\n",
       "      <td>4</td>\n",
       "      <td>4</td>\n",
       "      <td>2</td>\n",
       "      <td>5</td>\n",
       "      <td>3</td>\n",
       "      <td>25</td>\n",
       "      <td>9</td>\n",
       "      <td>...</td>\n",
       "      <td>6</td>\n",
       "      <td>3</td>\n",
       "      <td>5</td>\n",
       "      <td>5</td>\n",
       "      <td>3</td>\n",
       "      <td>3</td>\n",
       "      <td>4</td>\n",
       "      <td>4</td>\n",
       "      <td>9</td>\n",
       "      <td>6</td>\n",
       "    </tr>\n",
       "    <tr>\n",
       "      <th>top</th>\n",
       "      <td>RL</td>\n",
       "      <td>Pave</td>\n",
       "      <td>Grvl</td>\n",
       "      <td>Reg</td>\n",
       "      <td>Lvl</td>\n",
       "      <td>AllPub</td>\n",
       "      <td>Inside</td>\n",
       "      <td>Gtl</td>\n",
       "      <td>NAmes</td>\n",
       "      <td>Norm</td>\n",
       "      <td>...</td>\n",
       "      <td>Attchd</td>\n",
       "      <td>Unf</td>\n",
       "      <td>TA</td>\n",
       "      <td>TA</td>\n",
       "      <td>Y</td>\n",
       "      <td>Ex</td>\n",
       "      <td>MnPrv</td>\n",
       "      <td>Shed</td>\n",
       "      <td>WD</td>\n",
       "      <td>Normal</td>\n",
       "    </tr>\n",
       "    <tr>\n",
       "      <th>freq</th>\n",
       "      <td>1147</td>\n",
       "      <td>1450</td>\n",
       "      <td>50</td>\n",
       "      <td>921</td>\n",
       "      <td>1309</td>\n",
       "      <td>1454</td>\n",
       "      <td>1048</td>\n",
       "      <td>1378</td>\n",
       "      <td>225</td>\n",
       "      <td>1257</td>\n",
       "      <td>...</td>\n",
       "      <td>867</td>\n",
       "      <td>605</td>\n",
       "      <td>1306</td>\n",
       "      <td>1321</td>\n",
       "      <td>1335</td>\n",
       "      <td>2</td>\n",
       "      <td>157</td>\n",
       "      <td>48</td>\n",
       "      <td>1266</td>\n",
       "      <td>1196</td>\n",
       "    </tr>\n",
       "  </tbody>\n",
       "</table>\n",
       "<p>4 rows × 43 columns</p>\n",
       "</div>"
      ],
      "text/plain": [
       "       MSZoning Street Alley LotShape LandContour Utilities LotConfig  \\\n",
       "count      1455   1455    91     1455        1455      1455      1455   \n",
       "unique        5      2     2        4           4         2         5   \n",
       "top          RL   Pave  Grvl      Reg         Lvl    AllPub    Inside   \n",
       "freq       1147   1450    50      921        1309      1454      1048   \n",
       "\n",
       "       LandSlope Neighborhood Condition1      ...      GarageType  \\\n",
       "count       1455         1455       1455      ...            1374   \n",
       "unique         3           25          9      ...               6   \n",
       "top          Gtl        NAmes       Norm      ...          Attchd   \n",
       "freq        1378          225       1257      ...             867   \n",
       "\n",
       "       GarageFinish GarageQual GarageCond PavedDrive PoolQC  Fence  \\\n",
       "count          1374       1374       1374       1455      6    281   \n",
       "unique            3          5          5          3      3      4   \n",
       "top             Unf         TA         TA          Y     Ex  MnPrv   \n",
       "freq            605       1306       1321       1335      2    157   \n",
       "\n",
       "       MiscFeature SaleType SaleCondition  \n",
       "count           53     1455          1455  \n",
       "unique           4        9             6  \n",
       "top           Shed       WD        Normal  \n",
       "freq            48     1266          1196  \n",
       "\n",
       "[4 rows x 43 columns]"
      ]
     },
     "execution_count": 46,
     "metadata": {},
     "output_type": "execute_result"
    }
   ],
   "source": [
    "categoricals = train.select_dtypes(exclude=[np.number])\n",
    "#categoricals = train.select_dtypes(include=[np.object])\n",
    "categoricals.describe()"
   ]
  },
  {
   "cell_type": "markdown",
   "metadata": {},
   "source": [
    "one-hot encoding to make use of the information for modeling. One-hot encoding is a technique which will transform categorical data into numbers so the model can understand whether or not a particular observation falls into one category or another."
   ]
  },
  {
   "cell_type": "code",
   "execution_count": 47,
   "metadata": {
    "collapsed": false
   },
   "outputs": [
    {
     "name": "stdout",
     "output_type": "stream",
     "text": [
      "Original: \n",
      "\n",
      "Pave    1450\n",
      "Grvl       5\n",
      "Name: Street, dtype: int64 \n",
      "\n"
     ]
    }
   ],
   "source": [
    "print (\"Original: \\n\") \n",
    "print (train.Street.value_counts(), \"\\n\")"
   ]
  },
  {
   "cell_type": "markdown",
   "metadata": {},
   "source": [
    "We create a new column called enc_street. The pd.get_dummies() method will handle this for us."
   ]
  },
  {
   "cell_type": "code",
   "execution_count": 48,
   "metadata": {
    "collapsed": false
   },
   "outputs": [],
   "source": [
    "# Same transformation needed for both train and test data\n",
    "train['enc_street'] = pd.get_dummies(train.Street, drop_first=True)\n",
    "test['enc_street'] = pd.get_dummies(train.Street, drop_first=True)"
   ]
  },
  {
   "cell_type": "code",
   "execution_count": 49,
   "metadata": {
    "collapsed": false
   },
   "outputs": [
    {
     "name": "stdout",
     "output_type": "stream",
     "text": [
      "Encoded: \n",
      "\n",
      "1    1450\n",
      "0       5\n",
      "Name: enc_street, dtype: int64\n"
     ]
    }
   ],
   "source": [
    "print ('Encoded: \\n') \n",
    "print (train.enc_street.value_counts())"
   ]
  },
  {
   "cell_type": "markdown",
   "metadata": {},
   "source": [
    " Feature Engineering is the process of making features of the data suitable for use in machine learning and modelling. When we encoded the Street feature into a column of Boolean values, we engineered a feature."
   ]
  },
  {
   "cell_type": "code",
   "execution_count": 50,
   "metadata": {
    "collapsed": false
   },
   "outputs": [
    {
     "name": "stdout",
     "output_type": "stream",
     "text": [
      "<class 'pandas.core.series.Series'>\n"
     ]
    },
    {
     "data": {
      "image/png": "[encoded data removed]",
      "text/plain": [
       "<matplotlib.figure.Figure at 0x10ffe2eb8>"
      ]
     },
     "metadata": {},
     "output_type": "display_data"
    }
   ],
   "source": [
    "#SaleCondition relationship with SalePrice\n",
    "condition_pivot = train.pivot_table(index='SaleCondition',\n",
    "                                    values='SalePrice', aggfunc=np.median)\n",
    "print(type(condition_pivot))\n",
    "condition_pivot.plot(kind='bar', color='green')\n",
    "plt.xlabel('Sale Condition')\n",
    "plt.ylabel('Median Sale Price')\n",
    "plt.xticks(rotation=0)\n",
    "plt.show()"
   ]
  },
  {
   "cell_type": "code",
   "execution_count": 51,
   "metadata": {
    "collapsed": false
   },
   "outputs": [],
   "source": [
    "#Median price is higher for partial compared to other categories and others also almost in same range.\n",
    "# So partial can be converted to '1' and rest can be '0' for the purpose of feature engineering.\n",
    "\n",
    "def encode(x): return 1 if x == 'Partial' else 0\n",
    "train['enc_condition'] = train.SaleCondition.apply(encode)\n",
    "test['enc_condition'] = test.SaleCondition.apply(encode)"
   ]
  },
  {
   "cell_type": "code",
   "execution_count": 52,
   "metadata": {
    "collapsed": false
   },
   "outputs": [
    {
     "data": {
      "image/png": "[encoded data removed]",
      "text/plain": [
       "<matplotlib.figure.Figure at 0x10fe7f8d0>"
      ]
     },
     "metadata": {},
     "output_type": "display_data"
    }
   ],
   "source": [
    "# If we plot this new feature :\n",
    "condition_pivot = train.pivot_table(index='enc_condition', values='SalePrice', aggfunc=np.median)\n",
    "condition_pivot.plot(kind='bar', color='green')\n",
    "plt.xlabel('Encoded Sale Condition')\n",
    "plt.ylabel('Median Sale Price')\n",
    "plt.xticks(rotation=0)\n",
    "plt.show()"
   ]
  },
  {
   "cell_type": "markdown",
   "metadata": {},
   "source": [
    "Before we prepare the data for modeling, we need to deal with the missing data. We’ll the missing values with an average value and then assign the results to data. This is a method of interpolation. The DataFrame.interpolate() method makes this simple.\n",
    "\n",
    "This is a quick and simple method of dealing with missing values, and might not lead to the best performance of the model on new data. Handling missing values is an important part of the modeling process, where creativity and insight can make a big difference. \n",
    "\n",
    "Sometimes domain knowledge helps in treating the missing data ."
   ]
  },
  {
   "cell_type": "code",
   "execution_count": 53,
   "metadata": {
    "collapsed": true
   },
   "outputs": [],
   "source": [
    "data = train.select_dtypes(include=[np.number]).interpolate().dropna()"
   ]
  },
  {
   "cell_type": "code",
   "execution_count": 54,
   "metadata": {
    "collapsed": false
   },
   "outputs": [
    {
     "data": {
      "text/plain": [
       "0"
      ]
     },
     "execution_count": 54,
     "metadata": {},
     "output_type": "execute_result"
    }
   ],
   "source": [
    "# To check if all the columns now have 0 null value\n",
    "sum(data.isnull().sum() != 0)"
   ]
  },
  {
   "cell_type": "markdown",
   "metadata": {},
   "source": [
    "### Model Building from the above feature engineering - \n",
    "##### We will do more feature engineering later and see if we can improve the model performance"
   ]
  },
  {
   "cell_type": "code",
   "execution_count": 55,
   "metadata": {
    "collapsed": false
   },
   "outputs": [],
   "source": [
    "#Create target variable y and feature set X from the train data . We are dropping the SalePrice from \n",
    "# X and 'ID' is just a index with no influence to SalePrice\n",
    "\n",
    "y = np.log(train.SalePrice)\n",
    "X = data.drop(['SalePrice', 'Id'], axis=1)"
   ]
  },
  {
   "cell_type": "code",
   "execution_count": 56,
   "metadata": {
    "collapsed": false
   },
   "outputs": [
    {
     "data": {
      "text/plain": [
       "(1455, 40)"
      ]
     },
     "execution_count": 56,
     "metadata": {},
     "output_type": "execute_result"
    }
   ],
   "source": [
    "data.shape"
   ]
  },
  {
   "cell_type": "code",
   "execution_count": 57,
   "metadata": {
    "collapsed": false
   },
   "outputs": [
    {
     "data": {
      "text/plain": [
       "MSSubClass         int64\n",
       "LotFrontage      float64\n",
       "LotArea            int64\n",
       "OverallQual        int64\n",
       "OverallCond        int64\n",
       "YearBuilt          int64\n",
       "YearRemodAdd       int64\n",
       "MasVnrArea       float64\n",
       "BsmtFinSF1         int64\n",
       "BsmtFinSF2         int64\n",
       "BsmtUnfSF          int64\n",
       "TotalBsmtSF        int64\n",
       "1stFlrSF           int64\n",
       "2ndFlrSF           int64\n",
       "LowQualFinSF       int64\n",
       "GrLivArea          int64\n",
       "BsmtFullBath       int64\n",
       "BsmtHalfBath       int64\n",
       "FullBath           int64\n",
       "HalfBath           int64\n",
       "BedroomAbvGr       int64\n",
       "KitchenAbvGr       int64\n",
       "TotRmsAbvGrd       int64\n",
       "Fireplaces         int64\n",
       "GarageYrBlt      float64\n",
       "GarageCars         int64\n",
       "GarageArea         int64\n",
       "WoodDeckSF         int64\n",
       "OpenPorchSF        int64\n",
       "EnclosedPorch      int64\n",
       "3SsnPorch          int64\n",
       "ScreenPorch        int64\n",
       "PoolArea           int64\n",
       "MiscVal            int64\n",
       "MoSold             int64\n",
       "YrSold             int64\n",
       "enc_street         uint8\n",
       "enc_condition      int64\n",
       "dtype: object"
      ]
     },
     "execution_count": 57,
     "metadata": {},
     "output_type": "execute_result"
    }
   ],
   "source": [
    "X.dtypes"
   ]
  },
  {
   "cell_type": "markdown",
   "metadata": {},
   "source": [
    "Let’s partition the data and start modeling. We will use the train_test_split() function from scikit-learn to create a training set and a hold-out set. Partitioning the data in this way allows us to evaluate how our model might perform on data that it has never seen before. If we train the model on all of the test data, it will be difficult to tell if overfitting has taken place.\n",
    "\n",
    "train_test_split() returns four objects:\n",
    "\n",
    "X_train is the subset of our features used for training.\n",
    "X_test is the subset which will be our ‘hold-out’ set - what we’ll use to test the model.\n",
    "y_train is the target variable SalePrice which corresponds to X_train.\n",
    "y_test is the target variable SalePrice which corresponds to X_test.\n",
    "\n",
    "The first parameter value X denotes the set of predictor data, and y is the target variable. Next, we set random_state=42. This provides for reproducible results, since sci-kit learn’s train_test_split will randomly partition the data. The test_size parameter tells the function what proportion of the data should be in the test partition. In this example, about 33% of the data is devoted to the hold-out set."
   ]
  },
  {
   "cell_type": "code",
   "execution_count": 58,
   "metadata": {
    "collapsed": true
   },
   "outputs": [],
   "source": [
    "from sklearn.model_selection import train_test_split\n",
    "X_train, X_test, y_train, y_test = train_test_split(\n",
    "                                    X, y, random_state=42, test_size=.33)"
   ]
  },
  {
   "cell_type": "code",
   "execution_count": 59,
   "metadata": {
    "collapsed": true
   },
   "outputs": [],
   "source": [
    "#We will first create a Linear Regression model. First, we instantiate the model.\n",
    "from sklearn import linear_model\n",
    "lr = linear_model.LinearRegression()"
   ]
  },
  {
   "cell_type": "code",
   "execution_count": 60,
   "metadata": {
    "collapsed": true
   },
   "outputs": [],
   "source": [
    "#Then comes fitting . All the algorithim logic runs here\n",
    "model = lr.fit(X_train, y_train)\n"
   ]
  },
  {
   "cell_type": "code",
   "execution_count": 61,
   "metadata": {
    "collapsed": false
   },
   "outputs": [
    {
     "data": {
      "text/plain": [
       "(38,)"
      ]
     },
     "execution_count": 61,
     "metadata": {},
     "output_type": "execute_result"
    }
   ],
   "source": [
    "model.coef_.shape # Means we got coefficiets for our 38 predictor variables"
   ]
  },
  {
   "cell_type": "code",
   "execution_count": 62,
   "metadata": {
    "collapsed": false
   },
   "outputs": [
    {
     "data": {
      "text/plain": [
       "6.5190982794179888"
      ]
     },
     "execution_count": 62,
     "metadata": {},
     "output_type": "execute_result"
    }
   ],
   "source": [
    "model.intercept_ # Intercept value of the liner regression :- y=ax1+bx2+cx3+.......zz12x38+ C"
   ]
  },
  {
   "cell_type": "code",
   "execution_count": 63,
   "metadata": {
    "collapsed": false
   },
   "outputs": [
    {
     "data": {
      "text/plain": [
       "<bound method BaseEstimator.get_params of LinearRegression(copy_X=True, fit_intercept=True, n_jobs=1, normalize=False)>"
      ]
     },
     "execution_count": 63,
     "metadata": {},
     "output_type": "execute_result"
    }
   ],
   "source": [
    "model.get_params # To see what was used to fit "
   ]
  },
  {
   "cell_type": "markdown",
   "metadata": {},
   "source": [
    "Now, we want to evaluate the performance of the model. Each competition might evaluate the submissions differently. In this competition, Kaggle will evaluate our submission using root-mean-squared-error (RMSE). We’ll also look at The r-squared value. The r-squared value is a measure of how close the data are to the fitted regression line. It takes a value between 0 and 1, 1 meaning that all of the variance in the target is explained by the data. In general, a higher r-squared value means a better fit.\n",
    "The model.score() method returns the r-squared value by default."
   ]
  },
  {
   "cell_type": "code",
   "execution_count": 64,
   "metadata": {
    "collapsed": false
   },
   "outputs": [
    {
     "name": "stdout",
     "output_type": "stream",
     "text": [
      "R^2 is: \n",
      " 0.888247770926\n"
     ]
    }
   ],
   "source": [
    "# Get model score from Test data\n",
    "print (\"R^2 is: \\n\", model.score(X_test, y_test))"
   ]
  },
  {
   "cell_type": "code",
   "execution_count": 65,
   "metadata": {
    "collapsed": true
   },
   "outputs": [],
   "source": [
    "# Calculate rmse\n",
    "#The RMSE measures the distance between our predicted values and actual values.\n",
    "predictions = model.predict(X_test)"
   ]
  },
  {
   "cell_type": "code",
   "execution_count": 66,
   "metadata": {
    "collapsed": false
   },
   "outputs": [],
   "source": [
    "#predictions"
   ]
  },
  {
   "cell_type": "code",
   "execution_count": 67,
   "metadata": {
    "collapsed": false
   },
   "outputs": [
    {
     "name": "stdout",
     "output_type": "stream",
     "text": [
      "RMSE is: \n",
      " 0.0178417945196\n"
     ]
    }
   ],
   "source": [
    "from sklearn.metrics import mean_squared_error\n",
    "print ('RMSE is: \\n', mean_squared_error(y_test, predictions))"
   ]
  },
  {
   "cell_type": "code",
   "execution_count": 68,
   "metadata": {
    "collapsed": false
   },
   "outputs": [
    {
     "data": {
      "image/png": "[encoded data removed]",
      "text/plain": [
       "<matplotlib.figure.Figure at 0x11262c5c0>"
      ]
     },
     "metadata": {},
     "output_type": "display_data"
    }
   ],
   "source": [
    "actual_values = y_test\n",
    "plt.scatter(predictions, actual_values, alpha=.75,\n",
    "            color='b') #alpha helps to show overlapping data\n",
    "plt.xlabel('Predicted Price')\n",
    "plt.ylabel('Actual Price')\n",
    "plt.title('Linear Regression Model')\n",
    "plt.show()"
   ]
  },
  {
   "cell_type": "code",
   "execution_count": 70,
   "metadata": {
    "collapsed": false
   },
   "outputs": [
    {
     "data": {
      "image/png": "[encoded data removed]",
      "text/plain": [
       "<matplotlib.figure.Figure at 0x113b55fd0>"
      ]
     },
     "metadata": {},
     "output_type": "display_data"
    },
    {
     "data": {
      "image/png": "[encoded data removed]",
      "text/plain": [
       "<matplotlib.figure.Figure at 0x1139cb518>"
      ]
     },
     "metadata": {},
     "output_type": "display_data"
    },
    {
     "data": {
      "image/png": "[encoded data removed]",
      "text/plain": [
       "<matplotlib.figure.Figure at 0x10fe3e1d0>"
      ]
     },
     "metadata": {},
     "output_type": "display_data"
    },
    {
     "data": {
      "image/png": "[encoded data removed]",
      "text/plain": [
       "<matplotlib.figure.Figure at 0x1138fe198>"
      ]
     },
     "metadata": {},
     "output_type": "display_data"
    },
    {
     "data": {
      "image/png": "[encoded data removed]",
      "text/plain": [
       "<matplotlib.figure.Figure at 0x113990358>"
      ]
     },
     "metadata": {},
     "output_type": "display_data"
    }
   ],
   "source": [
    "#Ridge regularisation\n",
    "for i in range (-2, 3):\n",
    "    alpha = 10**i\n",
    "    rm = linear_model.Ridge(alpha=alpha)\n",
    "    ridge_model = rm.fit(X_train, y_train)\n",
    "    preds_ridge = ridge_model.predict(X_test)\n",
    "    \n",
    "    plt.scatter(preds_ridge, actual_values, alpha=.75, color='g')\n",
    "    plt.xlabel('Predicted Price')\n",
    "    plt.ylabel('Actual Price')\n",
    "    plt.title('Ridge Regularization with alpha = {}'.format(alpha))\n",
    "    overlay = 'R^2 is: {}\\nRMSE is: {}'.format(\n",
    "                    ridge_model.score(X_test, y_test),\n",
    "                    mean_squared_error(y_test, preds_ridge))\n",
    "    plt.annotate(s=overlay,xy=(12.1,10.6),size='x-large')\n",
    "    plt.show()"
   ]
  },
  {
   "cell_type": "code",
   "execution_count": 71,
   "metadata": {
    "collapsed": true
   },
   "outputs": [],
   "source": [
    "#For kaggle competition\n",
    "submission = pd.DataFrame()\n",
    "submission['Id'] = test.Id"
   ]
  },
  {
   "cell_type": "code",
   "execution_count": 72,
   "metadata": {
    "collapsed": true
   },
   "outputs": [],
   "source": [
    "feats = test.select_dtypes(\n",
    "        include=[np.number]).drop(['Id'], axis=1).interpolate()"
   ]
  },
  {
   "cell_type": "code",
   "execution_count": 74,
   "metadata": {
    "collapsed": false
   },
   "outputs": [
    {
     "data": {
      "text/html": [
       "<div>\n",
       "<table border=\"1\" class=\"dataframe\">\n",
       "  <thead>\n",
       "    <tr style=\"text-align: right;\">\n",
       "      <th></th>\n",
       "      <th>MSSubClass</th>\n",
       "      <th>LotFrontage</th>\n",
       "      <th>LotArea</th>\n",
       "      <th>OverallQual</th>\n",
       "      <th>OverallCond</th>\n",
       "      <th>YearBuilt</th>\n",
       "      <th>YearRemodAdd</th>\n",
       "      <th>MasVnrArea</th>\n",
       "      <th>BsmtFinSF1</th>\n",
       "      <th>BsmtFinSF2</th>\n",
       "      <th>...</th>\n",
       "      <th>OpenPorchSF</th>\n",
       "      <th>EnclosedPorch</th>\n",
       "      <th>3SsnPorch</th>\n",
       "      <th>ScreenPorch</th>\n",
       "      <th>PoolArea</th>\n",
       "      <th>MiscVal</th>\n",
       "      <th>MoSold</th>\n",
       "      <th>YrSold</th>\n",
       "      <th>enc_street</th>\n",
       "      <th>enc_condition</th>\n",
       "    </tr>\n",
       "  </thead>\n",
       "  <tbody>\n",
       "    <tr>\n",
       "      <th>0</th>\n",
       "      <td>20</td>\n",
       "      <td>80.0</td>\n",
       "      <td>11622</td>\n",
       "      <td>5</td>\n",
       "      <td>6</td>\n",
       "      <td>1961</td>\n",
       "      <td>1961</td>\n",
       "      <td>0.0</td>\n",
       "      <td>468.0</td>\n",
       "      <td>144.0</td>\n",
       "      <td>...</td>\n",
       "      <td>0</td>\n",
       "      <td>0</td>\n",
       "      <td>0</td>\n",
       "      <td>120</td>\n",
       "      <td>0</td>\n",
       "      <td>0</td>\n",
       "      <td>6</td>\n",
       "      <td>2010</td>\n",
       "      <td>1.0</td>\n",
       "      <td>0</td>\n",
       "    </tr>\n",
       "    <tr>\n",
       "      <th>1</th>\n",
       "      <td>20</td>\n",
       "      <td>81.0</td>\n",
       "      <td>14267</td>\n",
       "      <td>6</td>\n",
       "      <td>6</td>\n",
       "      <td>1958</td>\n",
       "      <td>1958</td>\n",
       "      <td>108.0</td>\n",
       "      <td>923.0</td>\n",
       "      <td>0.0</td>\n",
       "      <td>...</td>\n",
       "      <td>36</td>\n",
       "      <td>0</td>\n",
       "      <td>0</td>\n",
       "      <td>0</td>\n",
       "      <td>0</td>\n",
       "      <td>12500</td>\n",
       "      <td>6</td>\n",
       "      <td>2010</td>\n",
       "      <td>1.0</td>\n",
       "      <td>0</td>\n",
       "    </tr>\n",
       "    <tr>\n",
       "      <th>2</th>\n",
       "      <td>60</td>\n",
       "      <td>74.0</td>\n",
       "      <td>13830</td>\n",
       "      <td>5</td>\n",
       "      <td>5</td>\n",
       "      <td>1997</td>\n",
       "      <td>1998</td>\n",
       "      <td>0.0</td>\n",
       "      <td>791.0</td>\n",
       "      <td>0.0</td>\n",
       "      <td>...</td>\n",
       "      <td>34</td>\n",
       "      <td>0</td>\n",
       "      <td>0</td>\n",
       "      <td>0</td>\n",
       "      <td>0</td>\n",
       "      <td>0</td>\n",
       "      <td>3</td>\n",
       "      <td>2010</td>\n",
       "      <td>1.0</td>\n",
       "      <td>0</td>\n",
       "    </tr>\n",
       "    <tr>\n",
       "      <th>3</th>\n",
       "      <td>60</td>\n",
       "      <td>78.0</td>\n",
       "      <td>9978</td>\n",
       "      <td>6</td>\n",
       "      <td>6</td>\n",
       "      <td>1998</td>\n",
       "      <td>1998</td>\n",
       "      <td>20.0</td>\n",
       "      <td>602.0</td>\n",
       "      <td>0.0</td>\n",
       "      <td>...</td>\n",
       "      <td>36</td>\n",
       "      <td>0</td>\n",
       "      <td>0</td>\n",
       "      <td>0</td>\n",
       "      <td>0</td>\n",
       "      <td>0</td>\n",
       "      <td>6</td>\n",
       "      <td>2010</td>\n",
       "      <td>1.0</td>\n",
       "      <td>0</td>\n",
       "    </tr>\n",
       "    <tr>\n",
       "      <th>4</th>\n",
       "      <td>120</td>\n",
       "      <td>43.0</td>\n",
       "      <td>5005</td>\n",
       "      <td>8</td>\n",
       "      <td>5</td>\n",
       "      <td>1992</td>\n",
       "      <td>1992</td>\n",
       "      <td>0.0</td>\n",
       "      <td>263.0</td>\n",
       "      <td>0.0</td>\n",
       "      <td>...</td>\n",
       "      <td>82</td>\n",
       "      <td>0</td>\n",
       "      <td>0</td>\n",
       "      <td>144</td>\n",
       "      <td>0</td>\n",
       "      <td>0</td>\n",
       "      <td>1</td>\n",
       "      <td>2010</td>\n",
       "      <td>1.0</td>\n",
       "      <td>0</td>\n",
       "    </tr>\n",
       "    <tr>\n",
       "      <th>5</th>\n",
       "      <td>60</td>\n",
       "      <td>75.0</td>\n",
       "      <td>10000</td>\n",
       "      <td>6</td>\n",
       "      <td>5</td>\n",
       "      <td>1993</td>\n",
       "      <td>1994</td>\n",
       "      <td>0.0</td>\n",
       "      <td>0.0</td>\n",
       "      <td>0.0</td>\n",
       "      <td>...</td>\n",
       "      <td>84</td>\n",
       "      <td>0</td>\n",
       "      <td>0</td>\n",
       "      <td>0</td>\n",
       "      <td>0</td>\n",
       "      <td>0</td>\n",
       "      <td>4</td>\n",
       "      <td>2010</td>\n",
       "      <td>1.0</td>\n",
       "      <td>0</td>\n",
       "    </tr>\n",
       "    <tr>\n",
       "      <th>6</th>\n",
       "      <td>20</td>\n",
       "      <td>69.0</td>\n",
       "      <td>7980</td>\n",
       "      <td>6</td>\n",
       "      <td>7</td>\n",
       "      <td>1992</td>\n",
       "      <td>2007</td>\n",
       "      <td>0.0</td>\n",
       "      <td>935.0</td>\n",
       "      <td>0.0</td>\n",
       "      <td>...</td>\n",
       "      <td>21</td>\n",
       "      <td>0</td>\n",
       "      <td>0</td>\n",
       "      <td>0</td>\n",
       "      <td>0</td>\n",
       "      <td>500</td>\n",
       "      <td>3</td>\n",
       "      <td>2010</td>\n",
       "      <td>1.0</td>\n",
       "      <td>0</td>\n",
       "    </tr>\n",
       "    <tr>\n",
       "      <th>7</th>\n",
       "      <td>60</td>\n",
       "      <td>63.0</td>\n",
       "      <td>8402</td>\n",
       "      <td>6</td>\n",
       "      <td>5</td>\n",
       "      <td>1998</td>\n",
       "      <td>1998</td>\n",
       "      <td>0.0</td>\n",
       "      <td>0.0</td>\n",
       "      <td>0.0</td>\n",
       "      <td>...</td>\n",
       "      <td>75</td>\n",
       "      <td>0</td>\n",
       "      <td>0</td>\n",
       "      <td>0</td>\n",
       "      <td>0</td>\n",
       "      <td>0</td>\n",
       "      <td>5</td>\n",
       "      <td>2010</td>\n",
       "      <td>1.0</td>\n",
       "      <td>0</td>\n",
       "    </tr>\n",
       "    <tr>\n",
       "      <th>8</th>\n",
       "      <td>20</td>\n",
       "      <td>85.0</td>\n",
       "      <td>10176</td>\n",
       "      <td>7</td>\n",
       "      <td>5</td>\n",
       "      <td>1990</td>\n",
       "      <td>1990</td>\n",
       "      <td>0.0</td>\n",
       "      <td>637.0</td>\n",
       "      <td>0.0</td>\n",
       "      <td>...</td>\n",
       "      <td>0</td>\n",
       "      <td>0</td>\n",
       "      <td>0</td>\n",
       "      <td>0</td>\n",
       "      <td>0</td>\n",
       "      <td>0</td>\n",
       "      <td>2</td>\n",
       "      <td>2010</td>\n",
       "      <td>1.0</td>\n",
       "      <td>0</td>\n",
       "    </tr>\n",
       "    <tr>\n",
       "      <th>9</th>\n",
       "      <td>20</td>\n",
       "      <td>70.0</td>\n",
       "      <td>8400</td>\n",
       "      <td>4</td>\n",
       "      <td>5</td>\n",
       "      <td>1970</td>\n",
       "      <td>1970</td>\n",
       "      <td>0.0</td>\n",
       "      <td>804.0</td>\n",
       "      <td>78.0</td>\n",
       "      <td>...</td>\n",
       "      <td>0</td>\n",
       "      <td>0</td>\n",
       "      <td>0</td>\n",
       "      <td>0</td>\n",
       "      <td>0</td>\n",
       "      <td>0</td>\n",
       "      <td>4</td>\n",
       "      <td>2010</td>\n",
       "      <td>1.0</td>\n",
       "      <td>0</td>\n",
       "    </tr>\n",
       "    <tr>\n",
       "      <th>10</th>\n",
       "      <td>120</td>\n",
       "      <td>26.0</td>\n",
       "      <td>5858</td>\n",
       "      <td>7</td>\n",
       "      <td>5</td>\n",
       "      <td>1999</td>\n",
       "      <td>1999</td>\n",
       "      <td>0.0</td>\n",
       "      <td>1051.0</td>\n",
       "      <td>0.0</td>\n",
       "      <td>...</td>\n",
       "      <td>68</td>\n",
       "      <td>0</td>\n",
       "      <td>0</td>\n",
       "      <td>0</td>\n",
       "      <td>0</td>\n",
       "      <td>0</td>\n",
       "      <td>6</td>\n",
       "      <td>2010</td>\n",
       "      <td>1.0</td>\n",
       "      <td>0</td>\n",
       "    </tr>\n",
       "    <tr>\n",
       "      <th>11</th>\n",
       "      <td>160</td>\n",
       "      <td>21.0</td>\n",
       "      <td>1680</td>\n",
       "      <td>6</td>\n",
       "      <td>5</td>\n",
       "      <td>1971</td>\n",
       "      <td>1971</td>\n",
       "      <td>504.0</td>\n",
       "      <td>156.0</td>\n",
       "      <td>0.0</td>\n",
       "      <td>...</td>\n",
       "      <td>0</td>\n",
       "      <td>0</td>\n",
       "      <td>0</td>\n",
       "      <td>0</td>\n",
       "      <td>0</td>\n",
       "      <td>0</td>\n",
       "      <td>2</td>\n",
       "      <td>2010</td>\n",
       "      <td>1.0</td>\n",
       "      <td>0</td>\n",
       "    </tr>\n",
       "    <tr>\n",
       "      <th>12</th>\n",
       "      <td>160</td>\n",
       "      <td>21.0</td>\n",
       "      <td>1680</td>\n",
       "      <td>5</td>\n",
       "      <td>5</td>\n",
       "      <td>1971</td>\n",
       "      <td>1971</td>\n",
       "      <td>492.0</td>\n",
       "      <td>300.0</td>\n",
       "      <td>0.0</td>\n",
       "      <td>...</td>\n",
       "      <td>0</td>\n",
       "      <td>0</td>\n",
       "      <td>0</td>\n",
       "      <td>0</td>\n",
       "      <td>0</td>\n",
       "      <td>0</td>\n",
       "      <td>3</td>\n",
       "      <td>2010</td>\n",
       "      <td>1.0</td>\n",
       "      <td>0</td>\n",
       "    </tr>\n",
       "    <tr>\n",
       "      <th>13</th>\n",
       "      <td>160</td>\n",
       "      <td>24.0</td>\n",
       "      <td>2280</td>\n",
       "      <td>6</td>\n",
       "      <td>6</td>\n",
       "      <td>1975</td>\n",
       "      <td>1975</td>\n",
       "      <td>0.0</td>\n",
       "      <td>514.0</td>\n",
       "      <td>0.0</td>\n",
       "      <td>...</td>\n",
       "      <td>0</td>\n",
       "      <td>0</td>\n",
       "      <td>0</td>\n",
       "      <td>0</td>\n",
       "      <td>0</td>\n",
       "      <td>0</td>\n",
       "      <td>6</td>\n",
       "      <td>2010</td>\n",
       "      <td>1.0</td>\n",
       "      <td>0</td>\n",
       "    </tr>\n",
       "    <tr>\n",
       "      <th>14</th>\n",
       "      <td>120</td>\n",
       "      <td>24.0</td>\n",
       "      <td>2280</td>\n",
       "      <td>7</td>\n",
       "      <td>6</td>\n",
       "      <td>1975</td>\n",
       "      <td>1975</td>\n",
       "      <td>0.0</td>\n",
       "      <td>0.0</td>\n",
       "      <td>0.0</td>\n",
       "      <td>...</td>\n",
       "      <td>30</td>\n",
       "      <td>0</td>\n",
       "      <td>0</td>\n",
       "      <td>0</td>\n",
       "      <td>0</td>\n",
       "      <td>0</td>\n",
       "      <td>6</td>\n",
       "      <td>2010</td>\n",
       "      <td>1.0</td>\n",
       "      <td>0</td>\n",
       "    </tr>\n",
       "    <tr>\n",
       "      <th>15</th>\n",
       "      <td>60</td>\n",
       "      <td>102.0</td>\n",
       "      <td>12858</td>\n",
       "      <td>9</td>\n",
       "      <td>5</td>\n",
       "      <td>2009</td>\n",
       "      <td>2010</td>\n",
       "      <td>162.0</td>\n",
       "      <td>0.0</td>\n",
       "      <td>0.0</td>\n",
       "      <td>...</td>\n",
       "      <td>133</td>\n",
       "      <td>0</td>\n",
       "      <td>0</td>\n",
       "      <td>0</td>\n",
       "      <td>0</td>\n",
       "      <td>0</td>\n",
       "      <td>1</td>\n",
       "      <td>2010</td>\n",
       "      <td>1.0</td>\n",
       "      <td>1</td>\n",
       "    </tr>\n",
       "    <tr>\n",
       "      <th>16</th>\n",
       "      <td>20</td>\n",
       "      <td>94.0</td>\n",
       "      <td>12883</td>\n",
       "      <td>8</td>\n",
       "      <td>5</td>\n",
       "      <td>2009</td>\n",
       "      <td>2010</td>\n",
       "      <td>256.0</td>\n",
       "      <td>0.0</td>\n",
       "      <td>0.0</td>\n",
       "      <td>...</td>\n",
       "      <td>35</td>\n",
       "      <td>0</td>\n",
       "      <td>0</td>\n",
       "      <td>0</td>\n",
       "      <td>0</td>\n",
       "      <td>0</td>\n",
       "      <td>6</td>\n",
       "      <td>2010</td>\n",
       "      <td>1.0</td>\n",
       "      <td>1</td>\n",
       "    </tr>\n",
       "    <tr>\n",
       "      <th>17</th>\n",
       "      <td>20</td>\n",
       "      <td>90.0</td>\n",
       "      <td>11520</td>\n",
       "      <td>9</td>\n",
       "      <td>5</td>\n",
       "      <td>2005</td>\n",
       "      <td>2005</td>\n",
       "      <td>615.0</td>\n",
       "      <td>110.0</td>\n",
       "      <td>0.0</td>\n",
       "      <td>...</td>\n",
       "      <td>74</td>\n",
       "      <td>0</td>\n",
       "      <td>0</td>\n",
       "      <td>0</td>\n",
       "      <td>0</td>\n",
       "      <td>0</td>\n",
       "      <td>6</td>\n",
       "      <td>2010</td>\n",
       "      <td>1.0</td>\n",
       "      <td>0</td>\n",
       "    </tr>\n",
       "    <tr>\n",
       "      <th>18</th>\n",
       "      <td>20</td>\n",
       "      <td>79.0</td>\n",
       "      <td>14122</td>\n",
       "      <td>8</td>\n",
       "      <td>5</td>\n",
       "      <td>2005</td>\n",
       "      <td>2006</td>\n",
       "      <td>240.0</td>\n",
       "      <td>28.0</td>\n",
       "      <td>0.0</td>\n",
       "      <td>...</td>\n",
       "      <td>119</td>\n",
       "      <td>0</td>\n",
       "      <td>0</td>\n",
       "      <td>0</td>\n",
       "      <td>0</td>\n",
       "      <td>0</td>\n",
       "      <td>2</td>\n",
       "      <td>2010</td>\n",
       "      <td>1.0</td>\n",
       "      <td>0</td>\n",
       "    </tr>\n",
       "    <tr>\n",
       "      <th>19</th>\n",
       "      <td>20</td>\n",
       "      <td>110.0</td>\n",
       "      <td>14300</td>\n",
       "      <td>9</td>\n",
       "      <td>5</td>\n",
       "      <td>2003</td>\n",
       "      <td>2004</td>\n",
       "      <td>1095.0</td>\n",
       "      <td>1373.0</td>\n",
       "      <td>0.0</td>\n",
       "      <td>...</td>\n",
       "      <td>150</td>\n",
       "      <td>0</td>\n",
       "      <td>0</td>\n",
       "      <td>0</td>\n",
       "      <td>0</td>\n",
       "      <td>0</td>\n",
       "      <td>6</td>\n",
       "      <td>2010</td>\n",
       "      <td>1.0</td>\n",
       "      <td>0</td>\n",
       "    </tr>\n",
       "    <tr>\n",
       "      <th>20</th>\n",
       "      <td>60</td>\n",
       "      <td>105.0</td>\n",
       "      <td>13650</td>\n",
       "      <td>8</td>\n",
       "      <td>5</td>\n",
       "      <td>2002</td>\n",
       "      <td>2002</td>\n",
       "      <td>232.0</td>\n",
       "      <td>578.0</td>\n",
       "      <td>0.0</td>\n",
       "      <td>...</td>\n",
       "      <td>130</td>\n",
       "      <td>0</td>\n",
       "      <td>0</td>\n",
       "      <td>0</td>\n",
       "      <td>0</td>\n",
       "      <td>0</td>\n",
       "      <td>6</td>\n",
       "      <td>2010</td>\n",
       "      <td>1.0</td>\n",
       "      <td>0</td>\n",
       "    </tr>\n",
       "    <tr>\n",
       "      <th>21</th>\n",
       "      <td>120</td>\n",
       "      <td>41.0</td>\n",
       "      <td>7132</td>\n",
       "      <td>8</td>\n",
       "      <td>5</td>\n",
       "      <td>2006</td>\n",
       "      <td>2006</td>\n",
       "      <td>178.0</td>\n",
       "      <td>24.0</td>\n",
       "      <td>0.0</td>\n",
       "      <td>...</td>\n",
       "      <td>49</td>\n",
       "      <td>0</td>\n",
       "      <td>0</td>\n",
       "      <td>0</td>\n",
       "      <td>0</td>\n",
       "      <td>0</td>\n",
       "      <td>4</td>\n",
       "      <td>2010</td>\n",
       "      <td>1.0</td>\n",
       "      <td>0</td>\n",
       "    </tr>\n",
       "    <tr>\n",
       "      <th>22</th>\n",
       "      <td>20</td>\n",
       "      <td>100.0</td>\n",
       "      <td>18494</td>\n",
       "      <td>6</td>\n",
       "      <td>5</td>\n",
       "      <td>2005</td>\n",
       "      <td>2005</td>\n",
       "      <td>0.0</td>\n",
       "      <td>0.0</td>\n",
       "      <td>0.0</td>\n",
       "      <td>...</td>\n",
       "      <td>23</td>\n",
       "      <td>0</td>\n",
       "      <td>0</td>\n",
       "      <td>0</td>\n",
       "      <td>0</td>\n",
       "      <td>0</td>\n",
       "      <td>1</td>\n",
       "      <td>2010</td>\n",
       "      <td>1.0</td>\n",
       "      <td>0</td>\n",
       "    </tr>\n",
       "    <tr>\n",
       "      <th>23</th>\n",
       "      <td>120</td>\n",
       "      <td>43.0</td>\n",
       "      <td>3203</td>\n",
       "      <td>7</td>\n",
       "      <td>5</td>\n",
       "      <td>2006</td>\n",
       "      <td>2006</td>\n",
       "      <td>14.0</td>\n",
       "      <td>16.0</td>\n",
       "      <td>0.0</td>\n",
       "      <td>...</td>\n",
       "      <td>116</td>\n",
       "      <td>0</td>\n",
       "      <td>0</td>\n",
       "      <td>0</td>\n",
       "      <td>0</td>\n",
       "      <td>0</td>\n",
       "      <td>1</td>\n",
       "      <td>2010</td>\n",
       "      <td>1.0</td>\n",
       "      <td>0</td>\n",
       "    </tr>\n",
       "    <tr>\n",
       "      <th>24</th>\n",
       "      <td>80</td>\n",
       "      <td>67.0</td>\n",
       "      <td>13300</td>\n",
       "      <td>7</td>\n",
       "      <td>5</td>\n",
       "      <td>2004</td>\n",
       "      <td>2004</td>\n",
       "      <td>0.0</td>\n",
       "      <td>326.0</td>\n",
       "      <td>0.0</td>\n",
       "      <td>...</td>\n",
       "      <td>0</td>\n",
       "      <td>0</td>\n",
       "      <td>0</td>\n",
       "      <td>0</td>\n",
       "      <td>0</td>\n",
       "      <td>0</td>\n",
       "      <td>6</td>\n",
       "      <td>2010</td>\n",
       "      <td>1.0</td>\n",
       "      <td>0</td>\n",
       "    </tr>\n",
       "    <tr>\n",
       "      <th>25</th>\n",
       "      <td>60</td>\n",
       "      <td>63.0</td>\n",
       "      <td>8577</td>\n",
       "      <td>7</td>\n",
       "      <td>5</td>\n",
       "      <td>2004</td>\n",
       "      <td>2004</td>\n",
       "      <td>0.0</td>\n",
       "      <td>0.0</td>\n",
       "      <td>0.0</td>\n",
       "      <td>...</td>\n",
       "      <td>48</td>\n",
       "      <td>0</td>\n",
       "      <td>0</td>\n",
       "      <td>0</td>\n",
       "      <td>0</td>\n",
       "      <td>0</td>\n",
       "      <td>4</td>\n",
       "      <td>2010</td>\n",
       "      <td>1.0</td>\n",
       "      <td>0</td>\n",
       "    </tr>\n",
       "    <tr>\n",
       "      <th>26</th>\n",
       "      <td>60</td>\n",
       "      <td>60.0</td>\n",
       "      <td>17433</td>\n",
       "      <td>8</td>\n",
       "      <td>5</td>\n",
       "      <td>1998</td>\n",
       "      <td>1998</td>\n",
       "      <td>114.0</td>\n",
       "      <td>0.0</td>\n",
       "      <td>0.0</td>\n",
       "      <td>...</td>\n",
       "      <td>172</td>\n",
       "      <td>0</td>\n",
       "      <td>0</td>\n",
       "      <td>256</td>\n",
       "      <td>0</td>\n",
       "      <td>0</td>\n",
       "      <td>1</td>\n",
       "      <td>2010</td>\n",
       "      <td>1.0</td>\n",
       "      <td>0</td>\n",
       "    </tr>\n",
       "    <tr>\n",
       "      <th>27</th>\n",
       "      <td>20</td>\n",
       "      <td>73.0</td>\n",
       "      <td>8987</td>\n",
       "      <td>8</td>\n",
       "      <td>5</td>\n",
       "      <td>2005</td>\n",
       "      <td>2006</td>\n",
       "      <td>226.0</td>\n",
       "      <td>0.0</td>\n",
       "      <td>0.0</td>\n",
       "      <td>...</td>\n",
       "      <td>0</td>\n",
       "      <td>0</td>\n",
       "      <td>0</td>\n",
       "      <td>0</td>\n",
       "      <td>0</td>\n",
       "      <td>0</td>\n",
       "      <td>5</td>\n",
       "      <td>2010</td>\n",
       "      <td>1.0</td>\n",
       "      <td>0</td>\n",
       "    </tr>\n",
       "    <tr>\n",
       "      <th>28</th>\n",
       "      <td>20</td>\n",
       "      <td>92.0</td>\n",
       "      <td>9215</td>\n",
       "      <td>7</td>\n",
       "      <td>5</td>\n",
       "      <td>2009</td>\n",
       "      <td>2010</td>\n",
       "      <td>0.0</td>\n",
       "      <td>0.0</td>\n",
       "      <td>0.0</td>\n",
       "      <td>...</td>\n",
       "      <td>136</td>\n",
       "      <td>0</td>\n",
       "      <td>0</td>\n",
       "      <td>0</td>\n",
       "      <td>0</td>\n",
       "      <td>0</td>\n",
       "      <td>4</td>\n",
       "      <td>2010</td>\n",
       "      <td>1.0</td>\n",
       "      <td>1</td>\n",
       "    </tr>\n",
       "    <tr>\n",
       "      <th>29</th>\n",
       "      <td>20</td>\n",
       "      <td>84.0</td>\n",
       "      <td>10440</td>\n",
       "      <td>6</td>\n",
       "      <td>5</td>\n",
       "      <td>2005</td>\n",
       "      <td>2005</td>\n",
       "      <td>0.0</td>\n",
       "      <td>1414.0</td>\n",
       "      <td>0.0</td>\n",
       "      <td>...</td>\n",
       "      <td>102</td>\n",
       "      <td>0</td>\n",
       "      <td>0</td>\n",
       "      <td>216</td>\n",
       "      <td>0</td>\n",
       "      <td>0</td>\n",
       "      <td>5</td>\n",
       "      <td>2010</td>\n",
       "      <td>1.0</td>\n",
       "      <td>0</td>\n",
       "    </tr>\n",
       "    <tr>\n",
       "      <th>...</th>\n",
       "      <td>...</td>\n",
       "      <td>...</td>\n",
       "      <td>...</td>\n",
       "      <td>...</td>\n",
       "      <td>...</td>\n",
       "      <td>...</td>\n",
       "      <td>...</td>\n",
       "      <td>...</td>\n",
       "      <td>...</td>\n",
       "      <td>...</td>\n",
       "      <td>...</td>\n",
       "      <td>...</td>\n",
       "      <td>...</td>\n",
       "      <td>...</td>\n",
       "      <td>...</td>\n",
       "      <td>...</td>\n",
       "      <td>...</td>\n",
       "      <td>...</td>\n",
       "      <td>...</td>\n",
       "      <td>...</td>\n",
       "      <td>...</td>\n",
       "    </tr>\n",
       "    <tr>\n",
       "      <th>1429</th>\n",
       "      <td>30</td>\n",
       "      <td>50.0</td>\n",
       "      <td>7030</td>\n",
       "      <td>4</td>\n",
       "      <td>6</td>\n",
       "      <td>1925</td>\n",
       "      <td>1950</td>\n",
       "      <td>0.0</td>\n",
       "      <td>0.0</td>\n",
       "      <td>0.0</td>\n",
       "      <td>...</td>\n",
       "      <td>0</td>\n",
       "      <td>70</td>\n",
       "      <td>0</td>\n",
       "      <td>0</td>\n",
       "      <td>0</td>\n",
       "      <td>0</td>\n",
       "      <td>3</td>\n",
       "      <td>2006</td>\n",
       "      <td>1.0</td>\n",
       "      <td>0</td>\n",
       "    </tr>\n",
       "    <tr>\n",
       "      <th>1430</th>\n",
       "      <td>50</td>\n",
       "      <td>75.0</td>\n",
       "      <td>9060</td>\n",
       "      <td>6</td>\n",
       "      <td>5</td>\n",
       "      <td>1957</td>\n",
       "      <td>1957</td>\n",
       "      <td>327.0</td>\n",
       "      <td>0.0</td>\n",
       "      <td>0.0</td>\n",
       "      <td>...</td>\n",
       "      <td>21</td>\n",
       "      <td>0</td>\n",
       "      <td>0</td>\n",
       "      <td>0</td>\n",
       "      <td>0</td>\n",
       "      <td>0</td>\n",
       "      <td>4</td>\n",
       "      <td>2006</td>\n",
       "      <td>1.0</td>\n",
       "      <td>0</td>\n",
       "    </tr>\n",
       "    <tr>\n",
       "      <th>1431</th>\n",
       "      <td>30</td>\n",
       "      <td>69.0</td>\n",
       "      <td>12366</td>\n",
       "      <td>3</td>\n",
       "      <td>5</td>\n",
       "      <td>1945</td>\n",
       "      <td>1950</td>\n",
       "      <td>0.0</td>\n",
       "      <td>0.0</td>\n",
       "      <td>0.0</td>\n",
       "      <td>...</td>\n",
       "      <td>0</td>\n",
       "      <td>23</td>\n",
       "      <td>0</td>\n",
       "      <td>0</td>\n",
       "      <td>0</td>\n",
       "      <td>0</td>\n",
       "      <td>10</td>\n",
       "      <td>2006</td>\n",
       "      <td>1.0</td>\n",
       "      <td>0</td>\n",
       "    </tr>\n",
       "    <tr>\n",
       "      <th>1432</th>\n",
       "      <td>190</td>\n",
       "      <td>50.0</td>\n",
       "      <td>9000</td>\n",
       "      <td>5</td>\n",
       "      <td>6</td>\n",
       "      <td>1951</td>\n",
       "      <td>1951</td>\n",
       "      <td>0.0</td>\n",
       "      <td>0.0</td>\n",
       "      <td>0.0</td>\n",
       "      <td>...</td>\n",
       "      <td>0</td>\n",
       "      <td>0</td>\n",
       "      <td>0</td>\n",
       "      <td>0</td>\n",
       "      <td>0</td>\n",
       "      <td>0</td>\n",
       "      <td>10</td>\n",
       "      <td>2006</td>\n",
       "      <td>1.0</td>\n",
       "      <td>0</td>\n",
       "    </tr>\n",
       "    <tr>\n",
       "      <th>1433</th>\n",
       "      <td>50</td>\n",
       "      <td>60.0</td>\n",
       "      <td>8520</td>\n",
       "      <td>3</td>\n",
       "      <td>5</td>\n",
       "      <td>1916</td>\n",
       "      <td>1950</td>\n",
       "      <td>0.0</td>\n",
       "      <td>0.0</td>\n",
       "      <td>0.0</td>\n",
       "      <td>...</td>\n",
       "      <td>0</td>\n",
       "      <td>0</td>\n",
       "      <td>0</td>\n",
       "      <td>0</td>\n",
       "      <td>0</td>\n",
       "      <td>0</td>\n",
       "      <td>4</td>\n",
       "      <td>2006</td>\n",
       "      <td>1.0</td>\n",
       "      <td>0</td>\n",
       "    </tr>\n",
       "    <tr>\n",
       "      <th>1434</th>\n",
       "      <td>120</td>\n",
       "      <td>41.0</td>\n",
       "      <td>5748</td>\n",
       "      <td>8</td>\n",
       "      <td>5</td>\n",
       "      <td>2005</td>\n",
       "      <td>2006</td>\n",
       "      <td>473.0</td>\n",
       "      <td>1573.0</td>\n",
       "      <td>0.0</td>\n",
       "      <td>...</td>\n",
       "      <td>53</td>\n",
       "      <td>0</td>\n",
       "      <td>0</td>\n",
       "      <td>153</td>\n",
       "      <td>0</td>\n",
       "      <td>0</td>\n",
       "      <td>2</td>\n",
       "      <td>2006</td>\n",
       "      <td>1.0</td>\n",
       "      <td>1</td>\n",
       "    </tr>\n",
       "    <tr>\n",
       "      <th>1435</th>\n",
       "      <td>120</td>\n",
       "      <td>44.0</td>\n",
       "      <td>3842</td>\n",
       "      <td>8</td>\n",
       "      <td>5</td>\n",
       "      <td>2004</td>\n",
       "      <td>2005</td>\n",
       "      <td>186.0</td>\n",
       "      <td>1564.0</td>\n",
       "      <td>0.0</td>\n",
       "      <td>...</td>\n",
       "      <td>53</td>\n",
       "      <td>0</td>\n",
       "      <td>0</td>\n",
       "      <td>155</td>\n",
       "      <td>0</td>\n",
       "      <td>0</td>\n",
       "      <td>12</td>\n",
       "      <td>2006</td>\n",
       "      <td>1.0</td>\n",
       "      <td>0</td>\n",
       "    </tr>\n",
       "    <tr>\n",
       "      <th>1436</th>\n",
       "      <td>20</td>\n",
       "      <td>69.0</td>\n",
       "      <td>23580</td>\n",
       "      <td>6</td>\n",
       "      <td>6</td>\n",
       "      <td>1979</td>\n",
       "      <td>1979</td>\n",
       "      <td>0.0</td>\n",
       "      <td>776.0</td>\n",
       "      <td>0.0</td>\n",
       "      <td>...</td>\n",
       "      <td>28</td>\n",
       "      <td>0</td>\n",
       "      <td>0</td>\n",
       "      <td>0</td>\n",
       "      <td>0</td>\n",
       "      <td>0</td>\n",
       "      <td>9</td>\n",
       "      <td>2006</td>\n",
       "      <td>1.0</td>\n",
       "      <td>0</td>\n",
       "    </tr>\n",
       "    <tr>\n",
       "      <th>1437</th>\n",
       "      <td>90</td>\n",
       "      <td>65.0</td>\n",
       "      <td>8385</td>\n",
       "      <td>6</td>\n",
       "      <td>5</td>\n",
       "      <td>1978</td>\n",
       "      <td>1978</td>\n",
       "      <td>0.0</td>\n",
       "      <td>0.0</td>\n",
       "      <td>0.0</td>\n",
       "      <td>...</td>\n",
       "      <td>0</td>\n",
       "      <td>0</td>\n",
       "      <td>0</td>\n",
       "      <td>0</td>\n",
       "      <td>0</td>\n",
       "      <td>0</td>\n",
       "      <td>10</td>\n",
       "      <td>2006</td>\n",
       "      <td>1.0</td>\n",
       "      <td>0</td>\n",
       "    </tr>\n",
       "    <tr>\n",
       "      <th>1438</th>\n",
       "      <td>20</td>\n",
       "      <td>70.0</td>\n",
       "      <td>9116</td>\n",
       "      <td>8</td>\n",
       "      <td>5</td>\n",
       "      <td>2001</td>\n",
       "      <td>2001</td>\n",
       "      <td>0.0</td>\n",
       "      <td>0.0</td>\n",
       "      <td>0.0</td>\n",
       "      <td>...</td>\n",
       "      <td>100</td>\n",
       "      <td>0</td>\n",
       "      <td>0</td>\n",
       "      <td>0</td>\n",
       "      <td>0</td>\n",
       "      <td>0</td>\n",
       "      <td>5</td>\n",
       "      <td>2006</td>\n",
       "      <td>1.0</td>\n",
       "      <td>0</td>\n",
       "    </tr>\n",
       "    <tr>\n",
       "      <th>1439</th>\n",
       "      <td>80</td>\n",
       "      <td>140.0</td>\n",
       "      <td>11080</td>\n",
       "      <td>6</td>\n",
       "      <td>6</td>\n",
       "      <td>1975</td>\n",
       "      <td>1975</td>\n",
       "      <td>257.0</td>\n",
       "      <td>576.0</td>\n",
       "      <td>0.0</td>\n",
       "      <td>...</td>\n",
       "      <td>0</td>\n",
       "      <td>0</td>\n",
       "      <td>0</td>\n",
       "      <td>0</td>\n",
       "      <td>0</td>\n",
       "      <td>0</td>\n",
       "      <td>5</td>\n",
       "      <td>2006</td>\n",
       "      <td>1.0</td>\n",
       "      <td>0</td>\n",
       "    </tr>\n",
       "    <tr>\n",
       "      <th>1440</th>\n",
       "      <td>20</td>\n",
       "      <td>125.0</td>\n",
       "      <td>50102</td>\n",
       "      <td>6</td>\n",
       "      <td>5</td>\n",
       "      <td>1958</td>\n",
       "      <td>1958</td>\n",
       "      <td>0.0</td>\n",
       "      <td>909.0</td>\n",
       "      <td>0.0</td>\n",
       "      <td>...</td>\n",
       "      <td>0</td>\n",
       "      <td>0</td>\n",
       "      <td>0</td>\n",
       "      <td>138</td>\n",
       "      <td>0</td>\n",
       "      <td>0</td>\n",
       "      <td>3</td>\n",
       "      <td>2006</td>\n",
       "      <td>1.0</td>\n",
       "      <td>0</td>\n",
       "    </tr>\n",
       "    <tr>\n",
       "      <th>1441</th>\n",
       "      <td>20</td>\n",
       "      <td>110.0</td>\n",
       "      <td>8098</td>\n",
       "      <td>6</td>\n",
       "      <td>5</td>\n",
       "      <td>2000</td>\n",
       "      <td>2000</td>\n",
       "      <td>0.0</td>\n",
       "      <td>1136.0</td>\n",
       "      <td>116.0</td>\n",
       "      <td>...</td>\n",
       "      <td>173</td>\n",
       "      <td>0</td>\n",
       "      <td>0</td>\n",
       "      <td>0</td>\n",
       "      <td>0</td>\n",
       "      <td>0</td>\n",
       "      <td>10</td>\n",
       "      <td>2006</td>\n",
       "      <td>1.0</td>\n",
       "      <td>0</td>\n",
       "    </tr>\n",
       "    <tr>\n",
       "      <th>1442</th>\n",
       "      <td>20</td>\n",
       "      <td>95.0</td>\n",
       "      <td>13618</td>\n",
       "      <td>8</td>\n",
       "      <td>5</td>\n",
       "      <td>2005</td>\n",
       "      <td>2006</td>\n",
       "      <td>198.0</td>\n",
       "      <td>1350.0</td>\n",
       "      <td>0.0</td>\n",
       "      <td>...</td>\n",
       "      <td>38</td>\n",
       "      <td>0</td>\n",
       "      <td>0</td>\n",
       "      <td>0</td>\n",
       "      <td>0</td>\n",
       "      <td>0</td>\n",
       "      <td>11</td>\n",
       "      <td>2006</td>\n",
       "      <td>1.0</td>\n",
       "      <td>1</td>\n",
       "    </tr>\n",
       "    <tr>\n",
       "      <th>1443</th>\n",
       "      <td>20</td>\n",
       "      <td>88.0</td>\n",
       "      <td>11577</td>\n",
       "      <td>9</td>\n",
       "      <td>5</td>\n",
       "      <td>2005</td>\n",
       "      <td>2006</td>\n",
       "      <td>382.0</td>\n",
       "      <td>1455.0</td>\n",
       "      <td>0.0</td>\n",
       "      <td>...</td>\n",
       "      <td>225</td>\n",
       "      <td>0</td>\n",
       "      <td>0</td>\n",
       "      <td>0</td>\n",
       "      <td>0</td>\n",
       "      <td>0</td>\n",
       "      <td>9</td>\n",
       "      <td>2006</td>\n",
       "      <td>1.0</td>\n",
       "      <td>1</td>\n",
       "    </tr>\n",
       "    <tr>\n",
       "      <th>1444</th>\n",
       "      <td>20</td>\n",
       "      <td>125.0</td>\n",
       "      <td>31250</td>\n",
       "      <td>1</td>\n",
       "      <td>3</td>\n",
       "      <td>1951</td>\n",
       "      <td>1951</td>\n",
       "      <td>0.0</td>\n",
       "      <td>0.0</td>\n",
       "      <td>0.0</td>\n",
       "      <td>...</td>\n",
       "      <td>0</td>\n",
       "      <td>135</td>\n",
       "      <td>0</td>\n",
       "      <td>0</td>\n",
       "      <td>0</td>\n",
       "      <td>0</td>\n",
       "      <td>5</td>\n",
       "      <td>2006</td>\n",
       "      <td>1.0</td>\n",
       "      <td>0</td>\n",
       "    </tr>\n",
       "    <tr>\n",
       "      <th>1445</th>\n",
       "      <td>90</td>\n",
       "      <td>78.0</td>\n",
       "      <td>7020</td>\n",
       "      <td>7</td>\n",
       "      <td>5</td>\n",
       "      <td>1997</td>\n",
       "      <td>1997</td>\n",
       "      <td>200.0</td>\n",
       "      <td>1243.0</td>\n",
       "      <td>0.0</td>\n",
       "      <td>...</td>\n",
       "      <td>48</td>\n",
       "      <td>0</td>\n",
       "      <td>0</td>\n",
       "      <td>0</td>\n",
       "      <td>0</td>\n",
       "      <td>0</td>\n",
       "      <td>11</td>\n",
       "      <td>2006</td>\n",
       "      <td>1.0</td>\n",
       "      <td>0</td>\n",
       "    </tr>\n",
       "    <tr>\n",
       "      <th>1446</th>\n",
       "      <td>160</td>\n",
       "      <td>41.0</td>\n",
       "      <td>2665</td>\n",
       "      <td>5</td>\n",
       "      <td>6</td>\n",
       "      <td>1977</td>\n",
       "      <td>1977</td>\n",
       "      <td>0.0</td>\n",
       "      <td>0.0</td>\n",
       "      <td>0.0</td>\n",
       "      <td>...</td>\n",
       "      <td>0</td>\n",
       "      <td>0</td>\n",
       "      <td>0</td>\n",
       "      <td>0</td>\n",
       "      <td>0</td>\n",
       "      <td>0</td>\n",
       "      <td>5</td>\n",
       "      <td>2006</td>\n",
       "      <td>1.0</td>\n",
       "      <td>0</td>\n",
       "    </tr>\n",
       "    <tr>\n",
       "      <th>1447</th>\n",
       "      <td>20</td>\n",
       "      <td>58.0</td>\n",
       "      <td>10172</td>\n",
       "      <td>5</td>\n",
       "      <td>7</td>\n",
       "      <td>1968</td>\n",
       "      <td>2003</td>\n",
       "      <td>0.0</td>\n",
       "      <td>441.0</td>\n",
       "      <td>0.0</td>\n",
       "      <td>...</td>\n",
       "      <td>120</td>\n",
       "      <td>0</td>\n",
       "      <td>0</td>\n",
       "      <td>0</td>\n",
       "      <td>0</td>\n",
       "      <td>0</td>\n",
       "      <td>10</td>\n",
       "      <td>2006</td>\n",
       "      <td>1.0</td>\n",
       "      <td>0</td>\n",
       "    </tr>\n",
       "    <tr>\n",
       "      <th>1448</th>\n",
       "      <td>90</td>\n",
       "      <td>39.5</td>\n",
       "      <td>11836</td>\n",
       "      <td>5</td>\n",
       "      <td>5</td>\n",
       "      <td>1970</td>\n",
       "      <td>1970</td>\n",
       "      <td>0.0</td>\n",
       "      <td>149.0</td>\n",
       "      <td>0.0</td>\n",
       "      <td>...</td>\n",
       "      <td>0</td>\n",
       "      <td>0</td>\n",
       "      <td>0</td>\n",
       "      <td>0</td>\n",
       "      <td>0</td>\n",
       "      <td>0</td>\n",
       "      <td>3</td>\n",
       "      <td>2006</td>\n",
       "      <td>1.0</td>\n",
       "      <td>0</td>\n",
       "    </tr>\n",
       "    <tr>\n",
       "      <th>1449</th>\n",
       "      <td>180</td>\n",
       "      <td>21.0</td>\n",
       "      <td>1470</td>\n",
       "      <td>4</td>\n",
       "      <td>6</td>\n",
       "      <td>1970</td>\n",
       "      <td>1970</td>\n",
       "      <td>0.0</td>\n",
       "      <td>522.0</td>\n",
       "      <td>0.0</td>\n",
       "      <td>...</td>\n",
       "      <td>0</td>\n",
       "      <td>0</td>\n",
       "      <td>0</td>\n",
       "      <td>0</td>\n",
       "      <td>0</td>\n",
       "      <td>0</td>\n",
       "      <td>4</td>\n",
       "      <td>2006</td>\n",
       "      <td>1.0</td>\n",
       "      <td>0</td>\n",
       "    </tr>\n",
       "    <tr>\n",
       "      <th>1450</th>\n",
       "      <td>160</td>\n",
       "      <td>21.0</td>\n",
       "      <td>1484</td>\n",
       "      <td>4</td>\n",
       "      <td>4</td>\n",
       "      <td>1972</td>\n",
       "      <td>1972</td>\n",
       "      <td>0.0</td>\n",
       "      <td>252.0</td>\n",
       "      <td>0.0</td>\n",
       "      <td>...</td>\n",
       "      <td>0</td>\n",
       "      <td>0</td>\n",
       "      <td>0</td>\n",
       "      <td>0</td>\n",
       "      <td>0</td>\n",
       "      <td>0</td>\n",
       "      <td>5</td>\n",
       "      <td>2006</td>\n",
       "      <td>1.0</td>\n",
       "      <td>0</td>\n",
       "    </tr>\n",
       "    <tr>\n",
       "      <th>1451</th>\n",
       "      <td>20</td>\n",
       "      <td>80.0</td>\n",
       "      <td>13384</td>\n",
       "      <td>5</td>\n",
       "      <td>5</td>\n",
       "      <td>1969</td>\n",
       "      <td>1979</td>\n",
       "      <td>194.0</td>\n",
       "      <td>119.0</td>\n",
       "      <td>344.0</td>\n",
       "      <td>...</td>\n",
       "      <td>0</td>\n",
       "      <td>0</td>\n",
       "      <td>0</td>\n",
       "      <td>0</td>\n",
       "      <td>0</td>\n",
       "      <td>0</td>\n",
       "      <td>5</td>\n",
       "      <td>2006</td>\n",
       "      <td>1.0</td>\n",
       "      <td>0</td>\n",
       "    </tr>\n",
       "    <tr>\n",
       "      <th>1452</th>\n",
       "      <td>160</td>\n",
       "      <td>21.0</td>\n",
       "      <td>1533</td>\n",
       "      <td>4</td>\n",
       "      <td>5</td>\n",
       "      <td>1970</td>\n",
       "      <td>1970</td>\n",
       "      <td>0.0</td>\n",
       "      <td>408.0</td>\n",
       "      <td>0.0</td>\n",
       "      <td>...</td>\n",
       "      <td>0</td>\n",
       "      <td>0</td>\n",
       "      <td>0</td>\n",
       "      <td>0</td>\n",
       "      <td>0</td>\n",
       "      <td>0</td>\n",
       "      <td>12</td>\n",
       "      <td>2006</td>\n",
       "      <td>1.0</td>\n",
       "      <td>0</td>\n",
       "    </tr>\n",
       "    <tr>\n",
       "      <th>1453</th>\n",
       "      <td>160</td>\n",
       "      <td>21.0</td>\n",
       "      <td>1526</td>\n",
       "      <td>4</td>\n",
       "      <td>5</td>\n",
       "      <td>1970</td>\n",
       "      <td>1970</td>\n",
       "      <td>0.0</td>\n",
       "      <td>0.0</td>\n",
       "      <td>0.0</td>\n",
       "      <td>...</td>\n",
       "      <td>34</td>\n",
       "      <td>0</td>\n",
       "      <td>0</td>\n",
       "      <td>0</td>\n",
       "      <td>0</td>\n",
       "      <td>0</td>\n",
       "      <td>6</td>\n",
       "      <td>2006</td>\n",
       "      <td>1.0</td>\n",
       "      <td>0</td>\n",
       "    </tr>\n",
       "    <tr>\n",
       "      <th>1454</th>\n",
       "      <td>160</td>\n",
       "      <td>21.0</td>\n",
       "      <td>1936</td>\n",
       "      <td>4</td>\n",
       "      <td>7</td>\n",
       "      <td>1970</td>\n",
       "      <td>1970</td>\n",
       "      <td>0.0</td>\n",
       "      <td>0.0</td>\n",
       "      <td>0.0</td>\n",
       "      <td>...</td>\n",
       "      <td>0</td>\n",
       "      <td>0</td>\n",
       "      <td>0</td>\n",
       "      <td>0</td>\n",
       "      <td>0</td>\n",
       "      <td>0</td>\n",
       "      <td>6</td>\n",
       "      <td>2006</td>\n",
       "      <td>1.0</td>\n",
       "      <td>0</td>\n",
       "    </tr>\n",
       "    <tr>\n",
       "      <th>1455</th>\n",
       "      <td>160</td>\n",
       "      <td>21.0</td>\n",
       "      <td>1894</td>\n",
       "      <td>4</td>\n",
       "      <td>5</td>\n",
       "      <td>1970</td>\n",
       "      <td>1970</td>\n",
       "      <td>0.0</td>\n",
       "      <td>252.0</td>\n",
       "      <td>0.0</td>\n",
       "      <td>...</td>\n",
       "      <td>24</td>\n",
       "      <td>0</td>\n",
       "      <td>0</td>\n",
       "      <td>0</td>\n",
       "      <td>0</td>\n",
       "      <td>0</td>\n",
       "      <td>4</td>\n",
       "      <td>2006</td>\n",
       "      <td>1.0</td>\n",
       "      <td>0</td>\n",
       "    </tr>\n",
       "    <tr>\n",
       "      <th>1456</th>\n",
       "      <td>20</td>\n",
       "      <td>160.0</td>\n",
       "      <td>20000</td>\n",
       "      <td>5</td>\n",
       "      <td>7</td>\n",
       "      <td>1960</td>\n",
       "      <td>1996</td>\n",
       "      <td>0.0</td>\n",
       "      <td>1224.0</td>\n",
       "      <td>0.0</td>\n",
       "      <td>...</td>\n",
       "      <td>0</td>\n",
       "      <td>0</td>\n",
       "      <td>0</td>\n",
       "      <td>0</td>\n",
       "      <td>0</td>\n",
       "      <td>0</td>\n",
       "      <td>9</td>\n",
       "      <td>2006</td>\n",
       "      <td>1.0</td>\n",
       "      <td>0</td>\n",
       "    </tr>\n",
       "    <tr>\n",
       "      <th>1457</th>\n",
       "      <td>85</td>\n",
       "      <td>62.0</td>\n",
       "      <td>10441</td>\n",
       "      <td>5</td>\n",
       "      <td>5</td>\n",
       "      <td>1992</td>\n",
       "      <td>1992</td>\n",
       "      <td>0.0</td>\n",
       "      <td>337.0</td>\n",
       "      <td>0.0</td>\n",
       "      <td>...</td>\n",
       "      <td>32</td>\n",
       "      <td>0</td>\n",
       "      <td>0</td>\n",
       "      <td>0</td>\n",
       "      <td>0</td>\n",
       "      <td>700</td>\n",
       "      <td>7</td>\n",
       "      <td>2006</td>\n",
       "      <td>1.0</td>\n",
       "      <td>0</td>\n",
       "    </tr>\n",
       "    <tr>\n",
       "      <th>1458</th>\n",
       "      <td>60</td>\n",
       "      <td>74.0</td>\n",
       "      <td>9627</td>\n",
       "      <td>7</td>\n",
       "      <td>5</td>\n",
       "      <td>1993</td>\n",
       "      <td>1994</td>\n",
       "      <td>94.0</td>\n",
       "      <td>758.0</td>\n",
       "      <td>0.0</td>\n",
       "      <td>...</td>\n",
       "      <td>48</td>\n",
       "      <td>0</td>\n",
       "      <td>0</td>\n",
       "      <td>0</td>\n",
       "      <td>0</td>\n",
       "      <td>0</td>\n",
       "      <td>11</td>\n",
       "      <td>2006</td>\n",
       "      <td>1.0</td>\n",
       "      <td>0</td>\n",
       "    </tr>\n",
       "  </tbody>\n",
       "</table>\n",
       "<p>1459 rows × 38 columns</p>\n",
       "</div>"
      ],
      "text/plain": [
       "      MSSubClass  LotFrontage  LotArea  OverallQual  OverallCond  YearBuilt  \\\n",
       "0             20         80.0    11622            5            6       1961   \n",
       "1             20         81.0    14267            6            6       1958   \n",
       "2             60         74.0    13830            5            5       1997   \n",
       "3             60         78.0     9978            6            6       1998   \n",
       "4            120         43.0     5005            8            5       1992   \n",
       "5             60         75.0    10000            6            5       1993   \n",
       "6             20         69.0     7980            6            7       1992   \n",
       "7             60         63.0     8402            6            5       1998   \n",
       "8             20         85.0    10176            7            5       1990   \n",
       "9             20         70.0     8400            4            5       1970   \n",
       "10           120         26.0     5858            7            5       1999   \n",
       "11           160         21.0     1680            6            5       1971   \n",
       "12           160         21.0     1680            5            5       1971   \n",
       "13           160         24.0     2280            6            6       1975   \n",
       "14           120         24.0     2280            7            6       1975   \n",
       "15            60        102.0    12858            9            5       2009   \n",
       "16            20         94.0    12883            8            5       2009   \n",
       "17            20         90.0    11520            9            5       2005   \n",
       "18            20         79.0    14122            8            5       2005   \n",
       "19            20        110.0    14300            9            5       2003   \n",
       "20            60        105.0    13650            8            5       2002   \n",
       "21           120         41.0     7132            8            5       2006   \n",
       "22            20        100.0    18494            6            5       2005   \n",
       "23           120         43.0     3203            7            5       2006   \n",
       "24            80         67.0    13300            7            5       2004   \n",
       "25            60         63.0     8577            7            5       2004   \n",
       "26            60         60.0    17433            8            5       1998   \n",
       "27            20         73.0     8987            8            5       2005   \n",
       "28            20         92.0     9215            7            5       2009   \n",
       "29            20         84.0    10440            6            5       2005   \n",
       "...          ...          ...      ...          ...          ...        ...   \n",
       "1429          30         50.0     7030            4            6       1925   \n",
       "1430          50         75.0     9060            6            5       1957   \n",
       "1431          30         69.0    12366            3            5       1945   \n",
       "1432         190         50.0     9000            5            6       1951   \n",
       "1433          50         60.0     8520            3            5       1916   \n",
       "1434         120         41.0     5748            8            5       2005   \n",
       "1435         120         44.0     3842            8            5       2004   \n",
       "1436          20         69.0    23580            6            6       1979   \n",
       "1437          90         65.0     8385            6            5       1978   \n",
       "1438          20         70.0     9116            8            5       2001   \n",
       "1439          80        140.0    11080            6            6       1975   \n",
       "1440          20        125.0    50102            6            5       1958   \n",
       "1441          20        110.0     8098            6            5       2000   \n",
       "1442          20         95.0    13618            8            5       2005   \n",
       "1443          20         88.0    11577            9            5       2005   \n",
       "1444          20        125.0    31250            1            3       1951   \n",
       "1445          90         78.0     7020            7            5       1997   \n",
       "1446         160         41.0     2665            5            6       1977   \n",
       "1447          20         58.0    10172            5            7       1968   \n",
       "1448          90         39.5    11836            5            5       1970   \n",
       "1449         180         21.0     1470            4            6       1970   \n",
       "1450         160         21.0     1484            4            4       1972   \n",
       "1451          20         80.0    13384            5            5       1969   \n",
       "1452         160         21.0     1533            4            5       1970   \n",
       "1453         160         21.0     1526            4            5       1970   \n",
       "1454         160         21.0     1936            4            7       1970   \n",
       "1455         160         21.0     1894            4            5       1970   \n",
       "1456          20        160.0    20000            5            7       1960   \n",
       "1457          85         62.0    10441            5            5       1992   \n",
       "1458          60         74.0     9627            7            5       1993   \n",
       "\n",
       "      YearRemodAdd  MasVnrArea  BsmtFinSF1  BsmtFinSF2      ...        \\\n",
       "0             1961         0.0       468.0       144.0      ...         \n",
       "1             1958       108.0       923.0         0.0      ...         \n",
       "2             1998         0.0       791.0         0.0      ...         \n",
       "3             1998        20.0       602.0         0.0      ...         \n",
       "4             1992         0.0       263.0         0.0      ...         \n",
       "5             1994         0.0         0.0         0.0      ...         \n",
       "6             2007         0.0       935.0         0.0      ...         \n",
       "7             1998         0.0         0.0         0.0      ...         \n",
       "8             1990         0.0       637.0         0.0      ...         \n",
       "9             1970         0.0       804.0        78.0      ...         \n",
       "10            1999         0.0      1051.0         0.0      ...         \n",
       "11            1971       504.0       156.0         0.0      ...         \n",
       "12            1971       492.0       300.0         0.0      ...         \n",
       "13            1975         0.0       514.0         0.0      ...         \n",
       "14            1975         0.0         0.0         0.0      ...         \n",
       "15            2010       162.0         0.0         0.0      ...         \n",
       "16            2010       256.0         0.0         0.0      ...         \n",
       "17            2005       615.0       110.0         0.0      ...         \n",
       "18            2006       240.0        28.0         0.0      ...         \n",
       "19            2004      1095.0      1373.0         0.0      ...         \n",
       "20            2002       232.0       578.0         0.0      ...         \n",
       "21            2006       178.0        24.0         0.0      ...         \n",
       "22            2005         0.0         0.0         0.0      ...         \n",
       "23            2006        14.0        16.0         0.0      ...         \n",
       "24            2004         0.0       326.0         0.0      ...         \n",
       "25            2004         0.0         0.0         0.0      ...         \n",
       "26            1998       114.0         0.0         0.0      ...         \n",
       "27            2006       226.0         0.0         0.0      ...         \n",
       "28            2010         0.0         0.0         0.0      ...         \n",
       "29            2005         0.0      1414.0         0.0      ...         \n",
       "...            ...         ...         ...         ...      ...         \n",
       "1429          1950         0.0         0.0         0.0      ...         \n",
       "1430          1957       327.0         0.0         0.0      ...         \n",
       "1431          1950         0.0         0.0         0.0      ...         \n",
       "1432          1951         0.0         0.0         0.0      ...         \n",
       "1433          1950         0.0         0.0         0.0      ...         \n",
       "1434          2006       473.0      1573.0         0.0      ...         \n",
       "1435          2005       186.0      1564.0         0.0      ...         \n",
       "1436          1979         0.0       776.0         0.0      ...         \n",
       "1437          1978         0.0         0.0         0.0      ...         \n",
       "1438          2001         0.0         0.0         0.0      ...         \n",
       "1439          1975       257.0       576.0         0.0      ...         \n",
       "1440          1958         0.0       909.0         0.0      ...         \n",
       "1441          2000         0.0      1136.0       116.0      ...         \n",
       "1442          2006       198.0      1350.0         0.0      ...         \n",
       "1443          2006       382.0      1455.0         0.0      ...         \n",
       "1444          1951         0.0         0.0         0.0      ...         \n",
       "1445          1997       200.0      1243.0         0.0      ...         \n",
       "1446          1977         0.0         0.0         0.0      ...         \n",
       "1447          2003         0.0       441.0         0.0      ...         \n",
       "1448          1970         0.0       149.0         0.0      ...         \n",
       "1449          1970         0.0       522.0         0.0      ...         \n",
       "1450          1972         0.0       252.0         0.0      ...         \n",
       "1451          1979       194.0       119.0       344.0      ...         \n",
       "1452          1970         0.0       408.0         0.0      ...         \n",
       "1453          1970         0.0         0.0         0.0      ...         \n",
       "1454          1970         0.0         0.0         0.0      ...         \n",
       "1455          1970         0.0       252.0         0.0      ...         \n",
       "1456          1996         0.0      1224.0         0.0      ...         \n",
       "1457          1992         0.0       337.0         0.0      ...         \n",
       "1458          1994        94.0       758.0         0.0      ...         \n",
       "\n",
       "      OpenPorchSF  EnclosedPorch  3SsnPorch  ScreenPorch  PoolArea  MiscVal  \\\n",
       "0               0              0          0          120         0        0   \n",
       "1              36              0          0            0         0    12500   \n",
       "2              34              0          0            0         0        0   \n",
       "3              36              0          0            0         0        0   \n",
       "4              82              0          0          144         0        0   \n",
       "5              84              0          0            0         0        0   \n",
       "6              21              0          0            0         0      500   \n",
       "7              75              0          0            0         0        0   \n",
       "8               0              0          0            0         0        0   \n",
       "9               0              0          0            0         0        0   \n",
       "10             68              0          0            0         0        0   \n",
       "11              0              0          0            0         0        0   \n",
       "12              0              0          0            0         0        0   \n",
       "13              0              0          0            0         0        0   \n",
       "14             30              0          0            0         0        0   \n",
       "15            133              0          0            0         0        0   \n",
       "16             35              0          0            0         0        0   \n",
       "17             74              0          0            0         0        0   \n",
       "18            119              0          0            0         0        0   \n",
       "19            150              0          0            0         0        0   \n",
       "20            130              0          0            0         0        0   \n",
       "21             49              0          0            0         0        0   \n",
       "22             23              0          0            0         0        0   \n",
       "23            116              0          0            0         0        0   \n",
       "24              0              0          0            0         0        0   \n",
       "25             48              0          0            0         0        0   \n",
       "26            172              0          0          256         0        0   \n",
       "27              0              0          0            0         0        0   \n",
       "28            136              0          0            0         0        0   \n",
       "29            102              0          0          216         0        0   \n",
       "...           ...            ...        ...          ...       ...      ...   \n",
       "1429            0             70          0            0         0        0   \n",
       "1430           21              0          0            0         0        0   \n",
       "1431            0             23          0            0         0        0   \n",
       "1432            0              0          0            0         0        0   \n",
       "1433            0              0          0            0         0        0   \n",
       "1434           53              0          0          153         0        0   \n",
       "1435           53              0          0          155         0        0   \n",
       "1436           28              0          0            0         0        0   \n",
       "1437            0              0          0            0         0        0   \n",
       "1438          100              0          0            0         0        0   \n",
       "1439            0              0          0            0         0        0   \n",
       "1440            0              0          0          138         0        0   \n",
       "1441          173              0          0            0         0        0   \n",
       "1442           38              0          0            0         0        0   \n",
       "1443          225              0          0            0         0        0   \n",
       "1444            0            135          0            0         0        0   \n",
       "1445           48              0          0            0         0        0   \n",
       "1446            0              0          0            0         0        0   \n",
       "1447          120              0          0            0         0        0   \n",
       "1448            0              0          0            0         0        0   \n",
       "1449            0              0          0            0         0        0   \n",
       "1450            0              0          0            0         0        0   \n",
       "1451            0              0          0            0         0        0   \n",
       "1452            0              0          0            0         0        0   \n",
       "1453           34              0          0            0         0        0   \n",
       "1454            0              0          0            0         0        0   \n",
       "1455           24              0          0            0         0        0   \n",
       "1456            0              0          0            0         0        0   \n",
       "1457           32              0          0            0         0      700   \n",
       "1458           48              0          0            0         0        0   \n",
       "\n",
       "      MoSold  YrSold  enc_street  enc_condition  \n",
       "0          6    2010         1.0              0  \n",
       "1          6    2010         1.0              0  \n",
       "2          3    2010         1.0              0  \n",
       "3          6    2010         1.0              0  \n",
       "4          1    2010         1.0              0  \n",
       "5          4    2010         1.0              0  \n",
       "6          3    2010         1.0              0  \n",
       "7          5    2010         1.0              0  \n",
       "8          2    2010         1.0              0  \n",
       "9          4    2010         1.0              0  \n",
       "10         6    2010         1.0              0  \n",
       "11         2    2010         1.0              0  \n",
       "12         3    2010         1.0              0  \n",
       "13         6    2010         1.0              0  \n",
       "14         6    2010         1.0              0  \n",
       "15         1    2010         1.0              1  \n",
       "16         6    2010         1.0              1  \n",
       "17         6    2010         1.0              0  \n",
       "18         2    2010         1.0              0  \n",
       "19         6    2010         1.0              0  \n",
       "20         6    2010         1.0              0  \n",
       "21         4    2010         1.0              0  \n",
       "22         1    2010         1.0              0  \n",
       "23         1    2010         1.0              0  \n",
       "24         6    2010         1.0              0  \n",
       "25         4    2010         1.0              0  \n",
       "26         1    2010         1.0              0  \n",
       "27         5    2010         1.0              0  \n",
       "28         4    2010         1.0              1  \n",
       "29         5    2010         1.0              0  \n",
       "...      ...     ...         ...            ...  \n",
       "1429       3    2006         1.0              0  \n",
       "1430       4    2006         1.0              0  \n",
       "1431      10    2006         1.0              0  \n",
       "1432      10    2006         1.0              0  \n",
       "1433       4    2006         1.0              0  \n",
       "1434       2    2006         1.0              1  \n",
       "1435      12    2006         1.0              0  \n",
       "1436       9    2006         1.0              0  \n",
       "1437      10    2006         1.0              0  \n",
       "1438       5    2006         1.0              0  \n",
       "1439       5    2006         1.0              0  \n",
       "1440       3    2006         1.0              0  \n",
       "1441      10    2006         1.0              0  \n",
       "1442      11    2006         1.0              1  \n",
       "1443       9    2006         1.0              1  \n",
       "1444       5    2006         1.0              0  \n",
       "1445      11    2006         1.0              0  \n",
       "1446       5    2006         1.0              0  \n",
       "1447      10    2006         1.0              0  \n",
       "1448       3    2006         1.0              0  \n",
       "1449       4    2006         1.0              0  \n",
       "1450       5    2006         1.0              0  \n",
       "1451       5    2006         1.0              0  \n",
       "1452      12    2006         1.0              0  \n",
       "1453       6    2006         1.0              0  \n",
       "1454       6    2006         1.0              0  \n",
       "1455       4    2006         1.0              0  \n",
       "1456       9    2006         1.0              0  \n",
       "1457       7    2006         1.0              0  \n",
       "1458      11    2006         1.0              0  \n",
       "\n",
       "[1459 rows x 38 columns]"
      ]
     },
     "execution_count": 74,
     "metadata": {},
     "output_type": "execute_result"
    }
   ],
   "source": [
    "feats"
   ]
  },
  {
   "cell_type": "code",
   "execution_count": 75,
   "metadata": {
    "collapsed": true
   },
   "outputs": [],
   "source": [
    "predictions = model.predict(feats)"
   ]
  },
  {
   "cell_type": "code",
   "execution_count": null,
   "metadata": {
    "collapsed": true
   },
   "outputs": [],
   "source": [
    "#Now we’ll transform the predictions to the correct form. Remember that to reverse log() we do exp(). So we will apply np.exp() to our predictions becasuse we have taken the logarithm previously.\n",
    "\n"
   ]
  },
  {
   "cell_type": "code",
   "execution_count": 76,
   "metadata": {
    "collapsed": true
   },
   "outputs": [],
   "source": [
    "final_predictions = np.exp(predictions)"
   ]
  },
  {
   "cell_type": "code",
   "execution_count": 77,
   "metadata": {
    "collapsed": false
   },
   "outputs": [
    {
     "data": {
      "text/plain": [
       "array([ 128959.49172586,  122920.74024361,  175704.82598102, ...,\n",
       "        184435.36303922,  109901.82646548,  240479.31996393])"
      ]
     },
     "execution_count": 77,
     "metadata": {},
     "output_type": "execute_result"
    }
   ],
   "source": [
    "final_predictions"
   ]
  },
  {
   "cell_type": "code",
   "execution_count": 80,
   "metadata": {
    "collapsed": false
   },
   "outputs": [
    {
     "name": "stdout",
     "output_type": "stream",
     "text": [
      "Original predictions are: \n",
      " [ 11.76725362  11.71929504  12.07656074  12.20632678  12.11217655] \n",
      "\n",
      "Final predictions are: \n",
      " [ 128959.49172586  122920.74024361  175704.82598102  200050.83263755\n",
      "  182075.46986404]\n"
     ]
    }
   ],
   "source": [
    "print (\"Original predictions are: \\n\", (predictions)[:5], \"\\n\")\n",
    "print (\"Final predictions are: \\n\", final_predictions[:5])\n",
    "print (\"Actual values are : \\n\" , test.)"
   ]
  },
  {
   "cell_type": "code",
   "execution_count": 82,
   "metadata": {
    "collapsed": false
   },
   "outputs": [],
   "source": [
    "#test"
   ]
  },
  {
   "cell_type": "code",
   "execution_count": 83,
   "metadata": {
    "collapsed": false
   },
   "outputs": [
    {
     "data": {
      "text/html": [
       "<div>\n",
       "<table border=\"1\" class=\"dataframe\">\n",
       "  <thead>\n",
       "    <tr style=\"text-align: right;\">\n",
       "      <th></th>\n",
       "      <th>Id</th>\n",
       "      <th>SalePrice</th>\n",
       "    </tr>\n",
       "  </thead>\n",
       "  <tbody>\n",
       "    <tr>\n",
       "      <th>0</th>\n",
       "      <td>1461</td>\n",
       "      <td>128959.491726</td>\n",
       "    </tr>\n",
       "    <tr>\n",
       "      <th>1</th>\n",
       "      <td>1462</td>\n",
       "      <td>122920.740244</td>\n",
       "    </tr>\n",
       "    <tr>\n",
       "      <th>2</th>\n",
       "      <td>1463</td>\n",
       "      <td>175704.825981</td>\n",
       "    </tr>\n",
       "    <tr>\n",
       "      <th>3</th>\n",
       "      <td>1464</td>\n",
       "      <td>200050.832638</td>\n",
       "    </tr>\n",
       "    <tr>\n",
       "      <th>4</th>\n",
       "      <td>1465</td>\n",
       "      <td>182075.469864</td>\n",
       "    </tr>\n",
       "  </tbody>\n",
       "</table>\n",
       "</div>"
      ],
      "text/plain": [
       "     Id      SalePrice\n",
       "0  1461  128959.491726\n",
       "1  1462  122920.740244\n",
       "2  1463  175704.825981\n",
       "3  1464  200050.832638\n",
       "4  1465  182075.469864"
      ]
     },
     "execution_count": 83,
     "metadata": {},
     "output_type": "execute_result"
    }
   ],
   "source": [
    "submission['SalePrice'] = final_predictions\n",
    "submission.head()"
   ]
  },
  {
   "cell_type": "code",
   "execution_count": 84,
   "metadata": {
    "collapsed": true
   },
   "outputs": [],
   "source": [
    "submission.to_csv('submission1.csv', index=False)"
   ]
  },
  {
   "cell_type": "code",
   "execution_count": null,
   "metadata": {
    "collapsed": true
   },
   "outputs": [],
   "source": []
  },
  {
   "cell_type": "code",
   "execution_count": null,
   "metadata": {
    "collapsed": true
   },
   "outputs": [],
   "source": []
  },
  {
   "cell_type": "code",
   "execution_count": null,
   "metadata": {
    "collapsed": true
   },
   "outputs": [],
   "source": []
  },
  {
   "cell_type": "code",
   "execution_count": null,
   "metadata": {
    "collapsed": true
   },
   "outputs": [],
   "source": []
  },
  {
   "cell_type": "code",
   "execution_count": null,
   "metadata": {
    "collapsed": true
   },
   "outputs": [],
   "source": []
  },
  {
   "cell_type": "code",
   "execution_count": null,
   "metadata": {
    "collapsed": true
   },
   "outputs": [],
   "source": []
  }
 ],
 "metadata": {
  "kernelspec": {
   "display_name": "Python 3",
   "language": "python",
   "name": "python3"
  },
  "language_info": {
   "codemirror_mode": {
    "name": "ipython",
    "version": 3
   },
   "file_extension": ".py",
   "mimetype": "text/x-python",
   "name": "python",
   "nbconvert_exporter": "python",
   "pygments_lexer": "ipython3",
   "version": "3.6.0"
  }
 },
 "nbformat": 4,
 "nbformat_minor": 2
}
